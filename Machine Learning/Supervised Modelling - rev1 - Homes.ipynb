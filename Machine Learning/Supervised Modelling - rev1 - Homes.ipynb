{
 "cells": [
  {
   "cell_type": "code",
   "execution_count": 17,
   "metadata": {},
   "outputs": [],
   "source": [
    "# Import Dependicies\n",
    "import pandas as pd\n",
    "from sklearn import linear_model\n",
    "import statsmodels.api as sm\n",
    "from datetime import datetime "
   ]
  },
  {
   "cell_type": "code",
   "execution_count": 18,
   "metadata": {},
   "outputs": [
    {
     "data": {
      "text/html": [
       "<div>\n",
       "<style scoped>\n",
       "    .dataframe tbody tr th:only-of-type {\n",
       "        vertical-align: middle;\n",
       "    }\n",
       "\n",
       "    .dataframe tbody tr th {\n",
       "        vertical-align: top;\n",
       "    }\n",
       "\n",
       "    .dataframe thead th {\n",
       "        text-align: right;\n",
       "    }\n",
       "</style>\n",
       "<table border=\"1\" class=\"dataframe\">\n",
       "  <thead>\n",
       "    <tr style=\"text-align: right;\">\n",
       "      <th></th>\n",
       "      <th>city_name</th>\n",
       "      <th>city_size_type</th>\n",
       "      <th>city_type</th>\n",
       "      <th>province</th>\n",
       "      <th>pop_2016</th>\n",
       "      <th>city_size</th>\n",
       "      <th>pop_density</th>\n",
       "    </tr>\n",
       "  </thead>\n",
       "  <tbody>\n",
       "    <tr>\n",
       "      <th>0</th>\n",
       "      <td>Acton</td>\n",
       "      <td>Small population centre (1,000 to 29,999)</td>\n",
       "      <td>Fringe</td>\n",
       "      <td>Ontario</td>\n",
       "      <td>9462.0</td>\n",
       "      <td>7.80</td>\n",
       "      <td>1213.2</td>\n",
       "    </tr>\n",
       "    <tr>\n",
       "      <th>1</th>\n",
       "      <td>Acton Vale</td>\n",
       "      <td>Small population centre (1,000 to 29,999)</td>\n",
       "      <td>Population centre outside metropolitan area / ...</td>\n",
       "      <td>Quebec</td>\n",
       "      <td>5399.0</td>\n",
       "      <td>4.30</td>\n",
       "      <td>1254.2</td>\n",
       "    </tr>\n",
       "    <tr>\n",
       "      <th>2</th>\n",
       "      <td>Airdrie</td>\n",
       "      <td>Medium population centre (30,000 to 99,999)</td>\n",
       "      <td>Secondary core</td>\n",
       "      <td>Alberta</td>\n",
       "      <td>61082.0</td>\n",
       "      <td>32.78</td>\n",
       "      <td>1863.2</td>\n",
       "    </tr>\n",
       "    <tr>\n",
       "      <th>3</th>\n",
       "      <td>Alençon</td>\n",
       "      <td>Small population centre (1,000 to 29,999)</td>\n",
       "      <td>Population centre outside metropolitan area / ...</td>\n",
       "      <td>Quebec</td>\n",
       "      <td>1562.0</td>\n",
       "      <td>2.94</td>\n",
       "      <td>530.4</td>\n",
       "    </tr>\n",
       "    <tr>\n",
       "      <th>4</th>\n",
       "      <td>Alexandria</td>\n",
       "      <td>Small population centre (1,000 to 29,999)</td>\n",
       "      <td>Population centre outside metropolitan area / ...</td>\n",
       "      <td>Ontario</td>\n",
       "      <td>2845.0</td>\n",
       "      <td>2.07</td>\n",
       "      <td>1375.1</td>\n",
       "    </tr>\n",
       "  </tbody>\n",
       "</table>\n",
       "</div>"
      ],
      "text/plain": [
       "    city_name                               city_size_type  \\\n",
       "0       Acton    Small population centre (1,000 to 29,999)   \n",
       "1  Acton Vale    Small population centre (1,000 to 29,999)   \n",
       "2     Airdrie  Medium population centre (30,000 to 99,999)   \n",
       "3     Alençon    Small population centre (1,000 to 29,999)   \n",
       "4  Alexandria    Small population centre (1,000 to 29,999)   \n",
       "\n",
       "                                           city_type province  pop_2016  \\\n",
       "0                                             Fringe  Ontario    9462.0   \n",
       "1  Population centre outside metropolitan area / ...   Quebec    5399.0   \n",
       "2                                     Secondary core  Alberta   61082.0   \n",
       "3  Population centre outside metropolitan area / ...   Quebec    1562.0   \n",
       "4  Population centre outside metropolitan area / ...  Ontario    2845.0   \n",
       "\n",
       "   city_size  pop_density  \n",
       "0       7.80       1213.2  \n",
       "1       4.30       1254.2  \n",
       "2      32.78       1863.2  \n",
       "3       2.94        530.4  \n",
       "4       2.07       1375.1  "
      ]
     },
     "execution_count": 18,
     "metadata": {},
     "output_type": "execute_result"
    }
   ],
   "source": [
    "city_df = pd.read_csv(\"../Resources/cleaned_canada_pop_2011_2016.csv\")\n",
    "city_df.head()"
   ]
  },
  {
   "cell_type": "code",
   "execution_count": 19,
   "metadata": {},
   "outputs": [
    {
     "data": {
      "text/html": [
       "<div>\n",
       "<style scoped>\n",
       "    .dataframe tbody tr th:only-of-type {\n",
       "        vertical-align: middle;\n",
       "    }\n",
       "\n",
       "    .dataframe tbody tr th {\n",
       "        vertical-align: top;\n",
       "    }\n",
       "\n",
       "    .dataframe thead th {\n",
       "        text-align: right;\n",
       "    }\n",
       "</style>\n",
       "<table border=\"1\" class=\"dataframe\">\n",
       "  <thead>\n",
       "    <tr style=\"text-align: right;\">\n",
       "      <th></th>\n",
       "      <th>housingprice_index</th>\n",
       "      <th>REF_DATE</th>\n",
       "      <th>City</th>\n",
       "      <th>Province</th>\n",
       "      <th>Housing_Type</th>\n",
       "      <th>PRICE_INDEX</th>\n",
       "    </tr>\n",
       "  </thead>\n",
       "  <tbody>\n",
       "    <tr>\n",
       "      <th>0</th>\n",
       "      <td>0</td>\n",
       "      <td>1981-01-01</td>\n",
       "      <td>St. John's</td>\n",
       "      <td>Newfoundland and Labrador</td>\n",
       "      <td>House only</td>\n",
       "      <td>37</td>\n",
       "    </tr>\n",
       "    <tr>\n",
       "      <th>1</th>\n",
       "      <td>1</td>\n",
       "      <td>1981-01-01</td>\n",
       "      <td>St. John's</td>\n",
       "      <td>Newfoundland and Labrador</td>\n",
       "      <td>Land only</td>\n",
       "      <td>31</td>\n",
       "    </tr>\n",
       "    <tr>\n",
       "      <th>2</th>\n",
       "      <td>2</td>\n",
       "      <td>1981-01-01</td>\n",
       "      <td>Saint John</td>\n",
       "      <td>Fredericton</td>\n",
       "      <td>House only</td>\n",
       "      <td>61</td>\n",
       "    </tr>\n",
       "    <tr>\n",
       "      <th>3</th>\n",
       "      <td>3</td>\n",
       "      <td>1981-01-01</td>\n",
       "      <td>Saint John</td>\n",
       "      <td>Fredericton</td>\n",
       "      <td>Land only</td>\n",
       "      <td>38</td>\n",
       "    </tr>\n",
       "    <tr>\n",
       "      <th>4</th>\n",
       "      <td>4</td>\n",
       "      <td>1981-01-01</td>\n",
       "      <td>Québec</td>\n",
       "      <td>Quebec</td>\n",
       "      <td>House only</td>\n",
       "      <td>34</td>\n",
       "    </tr>\n",
       "  </tbody>\n",
       "</table>\n",
       "</div>"
      ],
      "text/plain": [
       "   housingprice_index    REF_DATE        City                   Province  \\\n",
       "0                   0  1981-01-01  St. John's  Newfoundland and Labrador   \n",
       "1                   1  1981-01-01  St. John's  Newfoundland and Labrador   \n",
       "2                   2  1981-01-01  Saint John                Fredericton   \n",
       "3                   3  1981-01-01  Saint John                Fredericton   \n",
       "4                   4  1981-01-01      Québec                     Quebec   \n",
       "\n",
       "  Housing_Type  PRICE_INDEX  \n",
       "0   House only           37  \n",
       "1    Land only           31  \n",
       "2   House only           61  \n",
       "3    Land only           38  \n",
       "4   House only           34  "
      ]
     },
     "execution_count": 19,
     "metadata": {},
     "output_type": "execute_result"
    }
   ],
   "source": [
    "housing_price_df = pd.read_csv(\"../Resources/price_index_clean.csv\")\n",
    "housing_price_df.head()"
   ]
  },
  {
   "cell_type": "code",
   "execution_count": 20,
   "metadata": {},
   "outputs": [
    {
     "data": {
      "text/html": [
       "<div>\n",
       "<style scoped>\n",
       "    .dataframe tbody tr th:only-of-type {\n",
       "        vertical-align: middle;\n",
       "    }\n",
       "\n",
       "    .dataframe tbody tr th {\n",
       "        vertical-align: top;\n",
       "    }\n",
       "\n",
       "    .dataframe thead th {\n",
       "        text-align: right;\n",
       "    }\n",
       "</style>\n",
       "<table border=\"1\" class=\"dataframe\">\n",
       "  <thead>\n",
       "    <tr style=\"text-align: right;\">\n",
       "      <th></th>\n",
       "      <th>city_name</th>\n",
       "      <th>city_size_type</th>\n",
       "      <th>city_type</th>\n",
       "      <th>province</th>\n",
       "      <th>pop_2016</th>\n",
       "      <th>city_size</th>\n",
       "      <th>pop_density</th>\n",
       "    </tr>\n",
       "  </thead>\n",
       "  <tbody>\n",
       "    <tr>\n",
       "      <th>0</th>\n",
       "      <td>Acton</td>\n",
       "      <td>Small population centre (1,000 to 29,999)</td>\n",
       "      <td>Fringe</td>\n",
       "      <td>Ontario</td>\n",
       "      <td>9462.0</td>\n",
       "      <td>7.80</td>\n",
       "      <td>1213.2</td>\n",
       "    </tr>\n",
       "    <tr>\n",
       "      <th>1</th>\n",
       "      <td>Acton Vale</td>\n",
       "      <td>Small population centre (1,000 to 29,999)</td>\n",
       "      <td>Population centre outside metropolitan area / ...</td>\n",
       "      <td>Quebec</td>\n",
       "      <td>5399.0</td>\n",
       "      <td>4.30</td>\n",
       "      <td>1254.2</td>\n",
       "    </tr>\n",
       "    <tr>\n",
       "      <th>2</th>\n",
       "      <td>Airdrie</td>\n",
       "      <td>Medium population centre (30,000 to 99,999)</td>\n",
       "      <td>Secondary core</td>\n",
       "      <td>Alberta</td>\n",
       "      <td>61082.0</td>\n",
       "      <td>32.78</td>\n",
       "      <td>1863.2</td>\n",
       "    </tr>\n",
       "    <tr>\n",
       "      <th>3</th>\n",
       "      <td>Alençon</td>\n",
       "      <td>Small population centre (1,000 to 29,999)</td>\n",
       "      <td>Population centre outside metropolitan area / ...</td>\n",
       "      <td>Quebec</td>\n",
       "      <td>1562.0</td>\n",
       "      <td>2.94</td>\n",
       "      <td>530.4</td>\n",
       "    </tr>\n",
       "    <tr>\n",
       "      <th>4</th>\n",
       "      <td>Alexandria</td>\n",
       "      <td>Small population centre (1,000 to 29,999)</td>\n",
       "      <td>Population centre outside metropolitan area / ...</td>\n",
       "      <td>Ontario</td>\n",
       "      <td>2845.0</td>\n",
       "      <td>2.07</td>\n",
       "      <td>1375.1</td>\n",
       "    </tr>\n",
       "  </tbody>\n",
       "</table>\n",
       "</div>"
      ],
      "text/plain": [
       "    city_name                               city_size_type  \\\n",
       "0       Acton    Small population centre (1,000 to 29,999)   \n",
       "1  Acton Vale    Small population centre (1,000 to 29,999)   \n",
       "2     Airdrie  Medium population centre (30,000 to 99,999)   \n",
       "3     Alençon    Small population centre (1,000 to 29,999)   \n",
       "4  Alexandria    Small population centre (1,000 to 29,999)   \n",
       "\n",
       "                                           city_type province  pop_2016  \\\n",
       "0                                             Fringe  Ontario    9462.0   \n",
       "1  Population centre outside metropolitan area / ...   Quebec    5399.0   \n",
       "2                                     Secondary core  Alberta   61082.0   \n",
       "3  Population centre outside metropolitan area / ...   Quebec    1562.0   \n",
       "4  Population centre outside metropolitan area / ...  Ontario    2845.0   \n",
       "\n",
       "   city_size  pop_density  \n",
       "0       7.80       1213.2  \n",
       "1       4.30       1254.2  \n",
       "2      32.78       1863.2  \n",
       "3       2.94        530.4  \n",
       "4       2.07       1375.1  "
      ]
     },
     "execution_count": 20,
     "metadata": {},
     "output_type": "execute_result"
    }
   ],
   "source": [
    "city_df.head()\n"
   ]
  },
  {
   "cell_type": "code",
   "execution_count": 21,
   "metadata": {},
   "outputs": [
    {
     "data": {
      "text/html": [
       "<div>\n",
       "<style scoped>\n",
       "    .dataframe tbody tr th:only-of-type {\n",
       "        vertical-align: middle;\n",
       "    }\n",
       "\n",
       "    .dataframe tbody tr th {\n",
       "        vertical-align: top;\n",
       "    }\n",
       "\n",
       "    .dataframe thead th {\n",
       "        text-align: right;\n",
       "    }\n",
       "</style>\n",
       "<table border=\"1\" class=\"dataframe\">\n",
       "  <thead>\n",
       "    <tr style=\"text-align: right;\">\n",
       "      <th></th>\n",
       "      <th>REF_DATE</th>\n",
       "      <th>City</th>\n",
       "      <th>Province</th>\n",
       "      <th>Housing_Type</th>\n",
       "      <th>PRICE_INDEX</th>\n",
       "    </tr>\n",
       "  </thead>\n",
       "  <tbody>\n",
       "    <tr>\n",
       "      <th>0</th>\n",
       "      <td>1981-01-01</td>\n",
       "      <td>St. John's</td>\n",
       "      <td>Newfoundland and Labrador</td>\n",
       "      <td>House only</td>\n",
       "      <td>37</td>\n",
       "    </tr>\n",
       "    <tr>\n",
       "      <th>1</th>\n",
       "      <td>1981-01-01</td>\n",
       "      <td>St. John's</td>\n",
       "      <td>Newfoundland and Labrador</td>\n",
       "      <td>Land only</td>\n",
       "      <td>31</td>\n",
       "    </tr>\n",
       "    <tr>\n",
       "      <th>2</th>\n",
       "      <td>1981-01-01</td>\n",
       "      <td>Saint John</td>\n",
       "      <td>Fredericton</td>\n",
       "      <td>House only</td>\n",
       "      <td>61</td>\n",
       "    </tr>\n",
       "    <tr>\n",
       "      <th>3</th>\n",
       "      <td>1981-01-01</td>\n",
       "      <td>Saint John</td>\n",
       "      <td>Fredericton</td>\n",
       "      <td>Land only</td>\n",
       "      <td>38</td>\n",
       "    </tr>\n",
       "    <tr>\n",
       "      <th>4</th>\n",
       "      <td>1981-01-01</td>\n",
       "      <td>Québec</td>\n",
       "      <td>Quebec</td>\n",
       "      <td>House only</td>\n",
       "      <td>34</td>\n",
       "    </tr>\n",
       "  </tbody>\n",
       "</table>\n",
       "</div>"
      ],
      "text/plain": [
       "     REF_DATE        City                   Province Housing_Type  PRICE_INDEX\n",
       "0  1981-01-01  St. John's  Newfoundland and Labrador   House only           37\n",
       "1  1981-01-01  St. John's  Newfoundland and Labrador    Land only           31\n",
       "2  1981-01-01  Saint John                Fredericton   House only           61\n",
       "3  1981-01-01  Saint John                Fredericton    Land only           38\n",
       "4  1981-01-01      Québec                     Quebec   House only           34"
      ]
     },
     "execution_count": 21,
     "metadata": {},
     "output_type": "execute_result"
    }
   ],
   "source": [
    "housing_price_df = housing_price_df.drop(columns = [\"housingprice_index\"])\n",
    "housing_price_df.head()"
   ]
  },
  {
   "cell_type": "code",
   "execution_count": 22,
   "metadata": {},
   "outputs": [
    {
     "data": {
      "text/html": [
       "<div>\n",
       "<style scoped>\n",
       "    .dataframe tbody tr th:only-of-type {\n",
       "        vertical-align: middle;\n",
       "    }\n",
       "\n",
       "    .dataframe tbody tr th {\n",
       "        vertical-align: top;\n",
       "    }\n",
       "\n",
       "    .dataframe thead th {\n",
       "        text-align: right;\n",
       "    }\n",
       "</style>\n",
       "<table border=\"1\" class=\"dataframe\">\n",
       "  <thead>\n",
       "    <tr style=\"text-align: right;\">\n",
       "      <th></th>\n",
       "      <th>REF_DATE</th>\n",
       "      <th>City</th>\n",
       "      <th>Province</th>\n",
       "      <th>Housing_Type</th>\n",
       "      <th>PRICE_INDEX</th>\n",
       "      <th>city_name</th>\n",
       "      <th>city_size_type</th>\n",
       "      <th>city_type</th>\n",
       "      <th>province</th>\n",
       "      <th>pop_2016</th>\n",
       "      <th>city_size</th>\n",
       "      <th>pop_density</th>\n",
       "    </tr>\n",
       "  </thead>\n",
       "  <tbody>\n",
       "    <tr>\n",
       "      <th>0</th>\n",
       "      <td>1981-01-01</td>\n",
       "      <td>St. John's</td>\n",
       "      <td>Newfoundland and Labrador</td>\n",
       "      <td>House only</td>\n",
       "      <td>37</td>\n",
       "      <td>St. John's</td>\n",
       "      <td>Large urban population centre (100,000 or more)</td>\n",
       "      <td>Core</td>\n",
       "      <td>Newfoundland and Labrador</td>\n",
       "      <td>178427.0</td>\n",
       "      <td>166.0</td>\n",
       "      <td>1074.9</td>\n",
       "    </tr>\n",
       "    <tr>\n",
       "      <th>1</th>\n",
       "      <td>1981-01-01</td>\n",
       "      <td>St. John's</td>\n",
       "      <td>Newfoundland and Labrador</td>\n",
       "      <td>Land only</td>\n",
       "      <td>31</td>\n",
       "      <td>St. John's</td>\n",
       "      <td>Large urban population centre (100,000 or more)</td>\n",
       "      <td>Core</td>\n",
       "      <td>Newfoundland and Labrador</td>\n",
       "      <td>178427.0</td>\n",
       "      <td>166.0</td>\n",
       "      <td>1074.9</td>\n",
       "    </tr>\n",
       "    <tr>\n",
       "      <th>2</th>\n",
       "      <td>1981-02-01</td>\n",
       "      <td>St. John's</td>\n",
       "      <td>Newfoundland and Labrador</td>\n",
       "      <td>House only</td>\n",
       "      <td>37</td>\n",
       "      <td>St. John's</td>\n",
       "      <td>Large urban population centre (100,000 or more)</td>\n",
       "      <td>Core</td>\n",
       "      <td>Newfoundland and Labrador</td>\n",
       "      <td>178427.0</td>\n",
       "      <td>166.0</td>\n",
       "      <td>1074.9</td>\n",
       "    </tr>\n",
       "    <tr>\n",
       "      <th>3</th>\n",
       "      <td>1981-02-01</td>\n",
       "      <td>St. John's</td>\n",
       "      <td>Newfoundland and Labrador</td>\n",
       "      <td>Land only</td>\n",
       "      <td>31</td>\n",
       "      <td>St. John's</td>\n",
       "      <td>Large urban population centre (100,000 or more)</td>\n",
       "      <td>Core</td>\n",
       "      <td>Newfoundland and Labrador</td>\n",
       "      <td>178427.0</td>\n",
       "      <td>166.0</td>\n",
       "      <td>1074.9</td>\n",
       "    </tr>\n",
       "    <tr>\n",
       "      <th>4</th>\n",
       "      <td>1981-03-01</td>\n",
       "      <td>St. John's</td>\n",
       "      <td>Newfoundland and Labrador</td>\n",
       "      <td>House only</td>\n",
       "      <td>37</td>\n",
       "      <td>St. John's</td>\n",
       "      <td>Large urban population centre (100,000 or more)</td>\n",
       "      <td>Core</td>\n",
       "      <td>Newfoundland and Labrador</td>\n",
       "      <td>178427.0</td>\n",
       "      <td>166.0</td>\n",
       "      <td>1074.9</td>\n",
       "    </tr>\n",
       "  </tbody>\n",
       "</table>\n",
       "</div>"
      ],
      "text/plain": [
       "     REF_DATE        City                   Province Housing_Type  \\\n",
       "0  1981-01-01  St. John's  Newfoundland and Labrador   House only   \n",
       "1  1981-01-01  St. John's  Newfoundland and Labrador    Land only   \n",
       "2  1981-02-01  St. John's  Newfoundland and Labrador   House only   \n",
       "3  1981-02-01  St. John's  Newfoundland and Labrador    Land only   \n",
       "4  1981-03-01  St. John's  Newfoundland and Labrador   House only   \n",
       "\n",
       "   PRICE_INDEX   city_name                                   city_size_type  \\\n",
       "0           37  St. John's  Large urban population centre (100,000 or more)   \n",
       "1           31  St. John's  Large urban population centre (100,000 or more)   \n",
       "2           37  St. John's  Large urban population centre (100,000 or more)   \n",
       "3           31  St. John's  Large urban population centre (100,000 or more)   \n",
       "4           37  St. John's  Large urban population centre (100,000 or more)   \n",
       "\n",
       "  city_type                   province  pop_2016  city_size  pop_density  \n",
       "0      Core  Newfoundland and Labrador  178427.0      166.0       1074.9  \n",
       "1      Core  Newfoundland and Labrador  178427.0      166.0       1074.9  \n",
       "2      Core  Newfoundland and Labrador  178427.0      166.0       1074.9  \n",
       "3      Core  Newfoundland and Labrador  178427.0      166.0       1074.9  \n",
       "4      Core  Newfoundland and Labrador  178427.0      166.0       1074.9  "
      ]
     },
     "execution_count": 22,
     "metadata": {},
     "output_type": "execute_result"
    }
   ],
   "source": [
    "# Merging the Various databases \n",
    "combined_df_1 = pd.merge(housing_price_df, city_df,  how='inner', left_on=['City','Province'], right_on = ['city_name','province'])\n",
    "combined_df_1.head()"
   ]
  },
  {
   "cell_type": "code",
   "execution_count": 23,
   "metadata": {},
   "outputs": [
    {
     "data": {
      "text/html": [
       "<div>\n",
       "<style scoped>\n",
       "    .dataframe tbody tr th:only-of-type {\n",
       "        vertical-align: middle;\n",
       "    }\n",
       "\n",
       "    .dataframe tbody tr th {\n",
       "        vertical-align: top;\n",
       "    }\n",
       "\n",
       "    .dataframe thead th {\n",
       "        text-align: right;\n",
       "    }\n",
       "</style>\n",
       "<table border=\"1\" class=\"dataframe\">\n",
       "  <thead>\n",
       "    <tr style=\"text-align: right;\">\n",
       "      <th></th>\n",
       "      <th>REF_DATE</th>\n",
       "      <th>City</th>\n",
       "      <th>Province</th>\n",
       "      <th>Housing_Type</th>\n",
       "      <th>PRICE_INDEX</th>\n",
       "      <th>city_size_type</th>\n",
       "      <th>city_type</th>\n",
       "      <th>pop_2016</th>\n",
       "      <th>city_size</th>\n",
       "      <th>pop_density</th>\n",
       "    </tr>\n",
       "  </thead>\n",
       "  <tbody>\n",
       "    <tr>\n",
       "      <th>0</th>\n",
       "      <td>1981-01-01</td>\n",
       "      <td>St. John's</td>\n",
       "      <td>Newfoundland and Labrador</td>\n",
       "      <td>House only</td>\n",
       "      <td>37</td>\n",
       "      <td>Large urban population centre (100,000 or more)</td>\n",
       "      <td>Core</td>\n",
       "      <td>178427.0</td>\n",
       "      <td>166.00</td>\n",
       "      <td>1074.9</td>\n",
       "    </tr>\n",
       "    <tr>\n",
       "      <th>1</th>\n",
       "      <td>1981-01-01</td>\n",
       "      <td>St. John's</td>\n",
       "      <td>Newfoundland and Labrador</td>\n",
       "      <td>Land only</td>\n",
       "      <td>31</td>\n",
       "      <td>Large urban population centre (100,000 or more)</td>\n",
       "      <td>Core</td>\n",
       "      <td>178427.0</td>\n",
       "      <td>166.00</td>\n",
       "      <td>1074.9</td>\n",
       "    </tr>\n",
       "    <tr>\n",
       "      <th>2</th>\n",
       "      <td>1981-02-01</td>\n",
       "      <td>St. John's</td>\n",
       "      <td>Newfoundland and Labrador</td>\n",
       "      <td>House only</td>\n",
       "      <td>37</td>\n",
       "      <td>Large urban population centre (100,000 or more)</td>\n",
       "      <td>Core</td>\n",
       "      <td>178427.0</td>\n",
       "      <td>166.00</td>\n",
       "      <td>1074.9</td>\n",
       "    </tr>\n",
       "    <tr>\n",
       "      <th>3</th>\n",
       "      <td>1981-02-01</td>\n",
       "      <td>St. John's</td>\n",
       "      <td>Newfoundland and Labrador</td>\n",
       "      <td>Land only</td>\n",
       "      <td>31</td>\n",
       "      <td>Large urban population centre (100,000 or more)</td>\n",
       "      <td>Core</td>\n",
       "      <td>178427.0</td>\n",
       "      <td>166.00</td>\n",
       "      <td>1074.9</td>\n",
       "    </tr>\n",
       "    <tr>\n",
       "      <th>4</th>\n",
       "      <td>1981-03-01</td>\n",
       "      <td>St. John's</td>\n",
       "      <td>Newfoundland and Labrador</td>\n",
       "      <td>House only</td>\n",
       "      <td>37</td>\n",
       "      <td>Large urban population centre (100,000 or more)</td>\n",
       "      <td>Core</td>\n",
       "      <td>178427.0</td>\n",
       "      <td>166.00</td>\n",
       "      <td>1074.9</td>\n",
       "    </tr>\n",
       "    <tr>\n",
       "      <th>...</th>\n",
       "      <td>...</td>\n",
       "      <td>...</td>\n",
       "      <td>...</td>\n",
       "      <td>...</td>\n",
       "      <td>...</td>\n",
       "      <td>...</td>\n",
       "      <td>...</td>\n",
       "      <td>...</td>\n",
       "      <td>...</td>\n",
       "      <td>...</td>\n",
       "    </tr>\n",
       "    <tr>\n",
       "      <th>15219</th>\n",
       "      <td>2020-05-01</td>\n",
       "      <td>Kelowna</td>\n",
       "      <td>British Columbia</td>\n",
       "      <td>Land only</td>\n",
       "      <td>101</td>\n",
       "      <td>Large urban population centre (100,000 or more)</td>\n",
       "      <td>Core</td>\n",
       "      <td>151957.0</td>\n",
       "      <td>136.44</td>\n",
       "      <td>1113.8</td>\n",
       "    </tr>\n",
       "    <tr>\n",
       "      <th>15220</th>\n",
       "      <td>2020-06-01</td>\n",
       "      <td>Kelowna</td>\n",
       "      <td>British Columbia</td>\n",
       "      <td>House only</td>\n",
       "      <td>105</td>\n",
       "      <td>Large urban population centre (100,000 or more)</td>\n",
       "      <td>Core</td>\n",
       "      <td>151957.0</td>\n",
       "      <td>136.44</td>\n",
       "      <td>1113.8</td>\n",
       "    </tr>\n",
       "    <tr>\n",
       "      <th>15221</th>\n",
       "      <td>2020-06-01</td>\n",
       "      <td>Kelowna</td>\n",
       "      <td>British Columbia</td>\n",
       "      <td>Land only</td>\n",
       "      <td>101</td>\n",
       "      <td>Large urban population centre (100,000 or more)</td>\n",
       "      <td>Core</td>\n",
       "      <td>151957.0</td>\n",
       "      <td>136.44</td>\n",
       "      <td>1113.8</td>\n",
       "    </tr>\n",
       "    <tr>\n",
       "      <th>15222</th>\n",
       "      <td>2020-07-01</td>\n",
       "      <td>Kelowna</td>\n",
       "      <td>British Columbia</td>\n",
       "      <td>House only</td>\n",
       "      <td>106</td>\n",
       "      <td>Large urban population centre (100,000 or more)</td>\n",
       "      <td>Core</td>\n",
       "      <td>151957.0</td>\n",
       "      <td>136.44</td>\n",
       "      <td>1113.8</td>\n",
       "    </tr>\n",
       "    <tr>\n",
       "      <th>15223</th>\n",
       "      <td>2020-07-01</td>\n",
       "      <td>Kelowna</td>\n",
       "      <td>British Columbia</td>\n",
       "      <td>Land only</td>\n",
       "      <td>101</td>\n",
       "      <td>Large urban population centre (100,000 or more)</td>\n",
       "      <td>Core</td>\n",
       "      <td>151957.0</td>\n",
       "      <td>136.44</td>\n",
       "      <td>1113.8</td>\n",
       "    </tr>\n",
       "  </tbody>\n",
       "</table>\n",
       "<p>15224 rows × 10 columns</p>\n",
       "</div>"
      ],
      "text/plain": [
       "         REF_DATE        City                   Province Housing_Type  \\\n",
       "0      1981-01-01  St. John's  Newfoundland and Labrador   House only   \n",
       "1      1981-01-01  St. John's  Newfoundland and Labrador    Land only   \n",
       "2      1981-02-01  St. John's  Newfoundland and Labrador   House only   \n",
       "3      1981-02-01  St. John's  Newfoundland and Labrador    Land only   \n",
       "4      1981-03-01  St. John's  Newfoundland and Labrador   House only   \n",
       "...           ...         ...                        ...          ...   \n",
       "15219  2020-05-01     Kelowna           British Columbia    Land only   \n",
       "15220  2020-06-01     Kelowna           British Columbia   House only   \n",
       "15221  2020-06-01     Kelowna           British Columbia    Land only   \n",
       "15222  2020-07-01     Kelowna           British Columbia   House only   \n",
       "15223  2020-07-01     Kelowna           British Columbia    Land only   \n",
       "\n",
       "       PRICE_INDEX                                   city_size_type city_type  \\\n",
       "0               37  Large urban population centre (100,000 or more)      Core   \n",
       "1               31  Large urban population centre (100,000 or more)      Core   \n",
       "2               37  Large urban population centre (100,000 or more)      Core   \n",
       "3               31  Large urban population centre (100,000 or more)      Core   \n",
       "4               37  Large urban population centre (100,000 or more)      Core   \n",
       "...            ...                                              ...       ...   \n",
       "15219          101  Large urban population centre (100,000 or more)      Core   \n",
       "15220          105  Large urban population centre (100,000 or more)      Core   \n",
       "15221          101  Large urban population centre (100,000 or more)      Core   \n",
       "15222          106  Large urban population centre (100,000 or more)      Core   \n",
       "15223          101  Large urban population centre (100,000 or more)      Core   \n",
       "\n",
       "       pop_2016  city_size  pop_density  \n",
       "0      178427.0     166.00       1074.9  \n",
       "1      178427.0     166.00       1074.9  \n",
       "2      178427.0     166.00       1074.9  \n",
       "3      178427.0     166.00       1074.9  \n",
       "4      178427.0     166.00       1074.9  \n",
       "...         ...        ...          ...  \n",
       "15219  151957.0     136.44       1113.8  \n",
       "15220  151957.0     136.44       1113.8  \n",
       "15221  151957.0     136.44       1113.8  \n",
       "15222  151957.0     136.44       1113.8  \n",
       "15223  151957.0     136.44       1113.8  \n",
       "\n",
       "[15224 rows x 10 columns]"
      ]
     },
     "execution_count": 23,
     "metadata": {},
     "output_type": "execute_result"
    }
   ],
   "source": [
    "combined_df_1 = combined_df_1.drop(columns = [\"city_name\" , \"province\"])\n",
    "combined_df_1"
   ]
  },
  {
   "cell_type": "code",
   "execution_count": 24,
   "metadata": {},
   "outputs": [
    {
     "name": "stdout",
     "output_type": "stream",
     "text": [
      "Duplication entries: 0\n"
     ]
    },
    {
     "data": {
      "text/html": [
       "<div>\n",
       "<style scoped>\n",
       "    .dataframe tbody tr th:only-of-type {\n",
       "        vertical-align: middle;\n",
       "    }\n",
       "\n",
       "    .dataframe tbody tr th {\n",
       "        vertical-align: top;\n",
       "    }\n",
       "\n",
       "    .dataframe thead th {\n",
       "        text-align: right;\n",
       "    }\n",
       "</style>\n",
       "<table border=\"1\" class=\"dataframe\">\n",
       "  <thead>\n",
       "    <tr style=\"text-align: right;\">\n",
       "      <th></th>\n",
       "      <th>REF_DATE</th>\n",
       "      <th>City</th>\n",
       "      <th>Province</th>\n",
       "      <th>Housing_Type</th>\n",
       "      <th>PRICE_INDEX</th>\n",
       "      <th>city_size_type</th>\n",
       "      <th>city_type</th>\n",
       "      <th>pop_2016</th>\n",
       "      <th>city_size</th>\n",
       "      <th>pop_density</th>\n",
       "    </tr>\n",
       "  </thead>\n",
       "  <tbody>\n",
       "    <tr>\n",
       "      <th>0</th>\n",
       "      <td>1981-01-01</td>\n",
       "      <td>St. John's</td>\n",
       "      <td>Newfoundland and Labrador</td>\n",
       "      <td>House only</td>\n",
       "      <td>37</td>\n",
       "      <td>Large urban population centre (100,000 or more)</td>\n",
       "      <td>Core</td>\n",
       "      <td>178427.0</td>\n",
       "      <td>166.00</td>\n",
       "      <td>1074.9</td>\n",
       "    </tr>\n",
       "    <tr>\n",
       "      <th>1</th>\n",
       "      <td>1981-01-01</td>\n",
       "      <td>St. John's</td>\n",
       "      <td>Newfoundland and Labrador</td>\n",
       "      <td>Land only</td>\n",
       "      <td>31</td>\n",
       "      <td>Large urban population centre (100,000 or more)</td>\n",
       "      <td>Core</td>\n",
       "      <td>178427.0</td>\n",
       "      <td>166.00</td>\n",
       "      <td>1074.9</td>\n",
       "    </tr>\n",
       "    <tr>\n",
       "      <th>2</th>\n",
       "      <td>1981-02-01</td>\n",
       "      <td>St. John's</td>\n",
       "      <td>Newfoundland and Labrador</td>\n",
       "      <td>House only</td>\n",
       "      <td>37</td>\n",
       "      <td>Large urban population centre (100,000 or more)</td>\n",
       "      <td>Core</td>\n",
       "      <td>178427.0</td>\n",
       "      <td>166.00</td>\n",
       "      <td>1074.9</td>\n",
       "    </tr>\n",
       "    <tr>\n",
       "      <th>3</th>\n",
       "      <td>1981-02-01</td>\n",
       "      <td>St. John's</td>\n",
       "      <td>Newfoundland and Labrador</td>\n",
       "      <td>Land only</td>\n",
       "      <td>31</td>\n",
       "      <td>Large urban population centre (100,000 or more)</td>\n",
       "      <td>Core</td>\n",
       "      <td>178427.0</td>\n",
       "      <td>166.00</td>\n",
       "      <td>1074.9</td>\n",
       "    </tr>\n",
       "    <tr>\n",
       "      <th>4</th>\n",
       "      <td>1981-03-01</td>\n",
       "      <td>St. John's</td>\n",
       "      <td>Newfoundland and Labrador</td>\n",
       "      <td>House only</td>\n",
       "      <td>37</td>\n",
       "      <td>Large urban population centre (100,000 or more)</td>\n",
       "      <td>Core</td>\n",
       "      <td>178427.0</td>\n",
       "      <td>166.00</td>\n",
       "      <td>1074.9</td>\n",
       "    </tr>\n",
       "    <tr>\n",
       "      <th>...</th>\n",
       "      <td>...</td>\n",
       "      <td>...</td>\n",
       "      <td>...</td>\n",
       "      <td>...</td>\n",
       "      <td>...</td>\n",
       "      <td>...</td>\n",
       "      <td>...</td>\n",
       "      <td>...</td>\n",
       "      <td>...</td>\n",
       "      <td>...</td>\n",
       "    </tr>\n",
       "    <tr>\n",
       "      <th>15219</th>\n",
       "      <td>2020-05-01</td>\n",
       "      <td>Kelowna</td>\n",
       "      <td>British Columbia</td>\n",
       "      <td>Land only</td>\n",
       "      <td>101</td>\n",
       "      <td>Large urban population centre (100,000 or more)</td>\n",
       "      <td>Core</td>\n",
       "      <td>151957.0</td>\n",
       "      <td>136.44</td>\n",
       "      <td>1113.8</td>\n",
       "    </tr>\n",
       "    <tr>\n",
       "      <th>15220</th>\n",
       "      <td>2020-06-01</td>\n",
       "      <td>Kelowna</td>\n",
       "      <td>British Columbia</td>\n",
       "      <td>House only</td>\n",
       "      <td>105</td>\n",
       "      <td>Large urban population centre (100,000 or more)</td>\n",
       "      <td>Core</td>\n",
       "      <td>151957.0</td>\n",
       "      <td>136.44</td>\n",
       "      <td>1113.8</td>\n",
       "    </tr>\n",
       "    <tr>\n",
       "      <th>15221</th>\n",
       "      <td>2020-06-01</td>\n",
       "      <td>Kelowna</td>\n",
       "      <td>British Columbia</td>\n",
       "      <td>Land only</td>\n",
       "      <td>101</td>\n",
       "      <td>Large urban population centre (100,000 or more)</td>\n",
       "      <td>Core</td>\n",
       "      <td>151957.0</td>\n",
       "      <td>136.44</td>\n",
       "      <td>1113.8</td>\n",
       "    </tr>\n",
       "    <tr>\n",
       "      <th>15222</th>\n",
       "      <td>2020-07-01</td>\n",
       "      <td>Kelowna</td>\n",
       "      <td>British Columbia</td>\n",
       "      <td>House only</td>\n",
       "      <td>106</td>\n",
       "      <td>Large urban population centre (100,000 or more)</td>\n",
       "      <td>Core</td>\n",
       "      <td>151957.0</td>\n",
       "      <td>136.44</td>\n",
       "      <td>1113.8</td>\n",
       "    </tr>\n",
       "    <tr>\n",
       "      <th>15223</th>\n",
       "      <td>2020-07-01</td>\n",
       "      <td>Kelowna</td>\n",
       "      <td>British Columbia</td>\n",
       "      <td>Land only</td>\n",
       "      <td>101</td>\n",
       "      <td>Large urban population centre (100,000 or more)</td>\n",
       "      <td>Core</td>\n",
       "      <td>151957.0</td>\n",
       "      <td>136.44</td>\n",
       "      <td>1113.8</td>\n",
       "    </tr>\n",
       "  </tbody>\n",
       "</table>\n",
       "<p>15224 rows × 10 columns</p>\n",
       "</div>"
      ],
      "text/plain": [
       "         REF_DATE        City                   Province Housing_Type  \\\n",
       "0      1981-01-01  St. John's  Newfoundland and Labrador   House only   \n",
       "1      1981-01-01  St. John's  Newfoundland and Labrador    Land only   \n",
       "2      1981-02-01  St. John's  Newfoundland and Labrador   House only   \n",
       "3      1981-02-01  St. John's  Newfoundland and Labrador    Land only   \n",
       "4      1981-03-01  St. John's  Newfoundland and Labrador   House only   \n",
       "...           ...         ...                        ...          ...   \n",
       "15219  2020-05-01     Kelowna           British Columbia    Land only   \n",
       "15220  2020-06-01     Kelowna           British Columbia   House only   \n",
       "15221  2020-06-01     Kelowna           British Columbia    Land only   \n",
       "15222  2020-07-01     Kelowna           British Columbia   House only   \n",
       "15223  2020-07-01     Kelowna           British Columbia    Land only   \n",
       "\n",
       "       PRICE_INDEX                                   city_size_type city_type  \\\n",
       "0               37  Large urban population centre (100,000 or more)      Core   \n",
       "1               31  Large urban population centre (100,000 or more)      Core   \n",
       "2               37  Large urban population centre (100,000 or more)      Core   \n",
       "3               31  Large urban population centre (100,000 or more)      Core   \n",
       "4               37  Large urban population centre (100,000 or more)      Core   \n",
       "...            ...                                              ...       ...   \n",
       "15219          101  Large urban population centre (100,000 or more)      Core   \n",
       "15220          105  Large urban population centre (100,000 or more)      Core   \n",
       "15221          101  Large urban population centre (100,000 or more)      Core   \n",
       "15222          106  Large urban population centre (100,000 or more)      Core   \n",
       "15223          101  Large urban population centre (100,000 or more)      Core   \n",
       "\n",
       "       pop_2016  city_size  pop_density  \n",
       "0      178427.0     166.00       1074.9  \n",
       "1      178427.0     166.00       1074.9  \n",
       "2      178427.0     166.00       1074.9  \n",
       "3      178427.0     166.00       1074.9  \n",
       "4      178427.0     166.00       1074.9  \n",
       "...         ...        ...          ...  \n",
       "15219  151957.0     136.44       1113.8  \n",
       "15220  151957.0     136.44       1113.8  \n",
       "15221  151957.0     136.44       1113.8  \n",
       "15222  151957.0     136.44       1113.8  \n",
       "15223  151957.0     136.44       1113.8  \n",
       "\n",
       "[15224 rows x 10 columns]"
      ]
     },
     "execution_count": 24,
     "metadata": {},
     "output_type": "execute_result"
    }
   ],
   "source": [
    "# Utilizing Combined_df_1 dataset instead of combined_df_2 (aka neglecting number of units available/sold/unsold)\n",
    "# Find duplicated entries \n",
    "print(f\"Duplication entries: {combined_df_1.duplicated().sum()}\")\n",
    "combined_df_1 = combined_df_1.drop_duplicates()\n",
    "combined_df_1"
   ]
  },
  {
   "cell_type": "code",
   "execution_count": 25,
   "metadata": {},
   "outputs": [
    {
     "data": {
      "text/plain": [
       "Windsor           950\n",
       "Montréal          950\n",
       "Winnipeg          950\n",
       "Calgary           950\n",
       "Victoria          950\n",
       "Hamilton          950\n",
       "Vancouver         950\n",
       "Edmonton          950\n",
       "Toronto           950\n",
       "St. John's        950\n",
       "Regina            950\n",
       "London            950\n",
       "Québec            950\n",
       "Saskatoon         950\n",
       "Halifax           870\n",
       "Charlottetown     614\n",
       "Kelowna            88\n",
       "Oshawa             88\n",
       "Trois-Rivières     88\n",
       "Sherbrooke         88\n",
       "Guelph             88\n",
       "Name: City, dtype: int64"
      ]
     },
     "execution_count": 25,
     "metadata": {},
     "output_type": "execute_result"
    }
   ],
   "source": [
    "city_counts = combined_df_1.City.value_counts()\n",
    "city_counts"
   ]
  },
  {
   "cell_type": "code",
   "execution_count": 26,
   "metadata": {},
   "outputs": [
    {
     "data": {
      "text/plain": [
       "Ontario                      3976\n",
       "Quebec                       2076\n",
       "British Columbia             1988\n",
       "Saskatchewan                 1900\n",
       "Alberta                      1900\n",
       "Newfoundland and Labrador     950\n",
       "Manitoba                      950\n",
       "Nova Scotia                   870\n",
       "Prince Edward Island          614\n",
       "Name: Province, dtype: int64"
      ]
     },
     "execution_count": 26,
     "metadata": {},
     "output_type": "execute_result"
    }
   ],
   "source": [
    "province_counts = combined_df_1.Province.value_counts()\n",
    "province_counts"
   ]
  },
  {
   "cell_type": "code",
   "execution_count": 27,
   "metadata": {},
   "outputs": [
    {
     "data": {
      "text/plain": [
       "House only    7612\n",
       "Land only     7612\n",
       "Name: Housing_Type, dtype: int64"
      ]
     },
     "execution_count": 27,
     "metadata": {},
     "output_type": "execute_result"
    }
   ],
   "source": [
    "house_type_counts = combined_df_1.Housing_Type.value_counts()\n",
    "house_type_counts"
   ]
  },
  {
   "cell_type": "code",
   "execution_count": 28,
   "metadata": {},
   "outputs": [
    {
     "data": {
      "text/plain": [
       "Large urban population centre (100,000 or more)    14610\n",
       "Medium population centre (30,000 to 99,999)          614\n",
       "Name: city_size_type, dtype: int64"
      ]
     },
     "execution_count": 28,
     "metadata": {},
     "output_type": "execute_result"
    }
   ],
   "source": [
    "city_size_type_count = combined_df_1.city_size_type.value_counts()\n",
    "city_size_type_count"
   ]
  },
  {
   "cell_type": "code",
   "execution_count": 29,
   "metadata": {},
   "outputs": [
    {
     "data": {
      "text/plain": [
       "Core    15224\n",
       "Name: city_type, dtype: int64"
      ]
     },
     "execution_count": 29,
     "metadata": {},
     "output_type": "execute_result"
    }
   ],
   "source": [
    "city_type = combined_df_1.city_type.value_counts()\n",
    "city_type"
   ]
  },
  {
   "cell_type": "code",
   "execution_count": 30,
   "metadata": {},
   "outputs": [
    {
     "data": {
      "text/html": [
       "<div>\n",
       "<style scoped>\n",
       "    .dataframe tbody tr th:only-of-type {\n",
       "        vertical-align: middle;\n",
       "    }\n",
       "\n",
       "    .dataframe tbody tr th {\n",
       "        vertical-align: top;\n",
       "    }\n",
       "\n",
       "    .dataframe thead th {\n",
       "        text-align: right;\n",
       "    }\n",
       "</style>\n",
       "<table border=\"1\" class=\"dataframe\">\n",
       "  <thead>\n",
       "    <tr style=\"text-align: right;\">\n",
       "      <th></th>\n",
       "      <th>REF_DATE</th>\n",
       "      <th>City</th>\n",
       "      <th>Province</th>\n",
       "      <th>Housing_Type</th>\n",
       "      <th>PRICE_INDEX</th>\n",
       "      <th>city_size_type</th>\n",
       "      <th>pop_2016</th>\n",
       "      <th>city_size</th>\n",
       "      <th>pop_density</th>\n",
       "    </tr>\n",
       "  </thead>\n",
       "  <tbody>\n",
       "    <tr>\n",
       "      <th>0</th>\n",
       "      <td>1981-01-01</td>\n",
       "      <td>St. John's</td>\n",
       "      <td>Newfoundland and Labrador</td>\n",
       "      <td>House only</td>\n",
       "      <td>37</td>\n",
       "      <td>Large urban population centre (100,000 or more)</td>\n",
       "      <td>178427.0</td>\n",
       "      <td>166.00</td>\n",
       "      <td>1074.9</td>\n",
       "    </tr>\n",
       "    <tr>\n",
       "      <th>1</th>\n",
       "      <td>1981-01-01</td>\n",
       "      <td>St. John's</td>\n",
       "      <td>Newfoundland and Labrador</td>\n",
       "      <td>Land only</td>\n",
       "      <td>31</td>\n",
       "      <td>Large urban population centre (100,000 or more)</td>\n",
       "      <td>178427.0</td>\n",
       "      <td>166.00</td>\n",
       "      <td>1074.9</td>\n",
       "    </tr>\n",
       "    <tr>\n",
       "      <th>2</th>\n",
       "      <td>1981-02-01</td>\n",
       "      <td>St. John's</td>\n",
       "      <td>Newfoundland and Labrador</td>\n",
       "      <td>House only</td>\n",
       "      <td>37</td>\n",
       "      <td>Large urban population centre (100,000 or more)</td>\n",
       "      <td>178427.0</td>\n",
       "      <td>166.00</td>\n",
       "      <td>1074.9</td>\n",
       "    </tr>\n",
       "    <tr>\n",
       "      <th>3</th>\n",
       "      <td>1981-02-01</td>\n",
       "      <td>St. John's</td>\n",
       "      <td>Newfoundland and Labrador</td>\n",
       "      <td>Land only</td>\n",
       "      <td>31</td>\n",
       "      <td>Large urban population centre (100,000 or more)</td>\n",
       "      <td>178427.0</td>\n",
       "      <td>166.00</td>\n",
       "      <td>1074.9</td>\n",
       "    </tr>\n",
       "    <tr>\n",
       "      <th>4</th>\n",
       "      <td>1981-03-01</td>\n",
       "      <td>St. John's</td>\n",
       "      <td>Newfoundland and Labrador</td>\n",
       "      <td>House only</td>\n",
       "      <td>37</td>\n",
       "      <td>Large urban population centre (100,000 or more)</td>\n",
       "      <td>178427.0</td>\n",
       "      <td>166.00</td>\n",
       "      <td>1074.9</td>\n",
       "    </tr>\n",
       "    <tr>\n",
       "      <th>...</th>\n",
       "      <td>...</td>\n",
       "      <td>...</td>\n",
       "      <td>...</td>\n",
       "      <td>...</td>\n",
       "      <td>...</td>\n",
       "      <td>...</td>\n",
       "      <td>...</td>\n",
       "      <td>...</td>\n",
       "      <td>...</td>\n",
       "    </tr>\n",
       "    <tr>\n",
       "      <th>15219</th>\n",
       "      <td>2020-05-01</td>\n",
       "      <td>Kelowna</td>\n",
       "      <td>British Columbia</td>\n",
       "      <td>Land only</td>\n",
       "      <td>101</td>\n",
       "      <td>Large urban population centre (100,000 or more)</td>\n",
       "      <td>151957.0</td>\n",
       "      <td>136.44</td>\n",
       "      <td>1113.8</td>\n",
       "    </tr>\n",
       "    <tr>\n",
       "      <th>15220</th>\n",
       "      <td>2020-06-01</td>\n",
       "      <td>Kelowna</td>\n",
       "      <td>British Columbia</td>\n",
       "      <td>House only</td>\n",
       "      <td>105</td>\n",
       "      <td>Large urban population centre (100,000 or more)</td>\n",
       "      <td>151957.0</td>\n",
       "      <td>136.44</td>\n",
       "      <td>1113.8</td>\n",
       "    </tr>\n",
       "    <tr>\n",
       "      <th>15221</th>\n",
       "      <td>2020-06-01</td>\n",
       "      <td>Kelowna</td>\n",
       "      <td>British Columbia</td>\n",
       "      <td>Land only</td>\n",
       "      <td>101</td>\n",
       "      <td>Large urban population centre (100,000 or more)</td>\n",
       "      <td>151957.0</td>\n",
       "      <td>136.44</td>\n",
       "      <td>1113.8</td>\n",
       "    </tr>\n",
       "    <tr>\n",
       "      <th>15222</th>\n",
       "      <td>2020-07-01</td>\n",
       "      <td>Kelowna</td>\n",
       "      <td>British Columbia</td>\n",
       "      <td>House only</td>\n",
       "      <td>106</td>\n",
       "      <td>Large urban population centre (100,000 or more)</td>\n",
       "      <td>151957.0</td>\n",
       "      <td>136.44</td>\n",
       "      <td>1113.8</td>\n",
       "    </tr>\n",
       "    <tr>\n",
       "      <th>15223</th>\n",
       "      <td>2020-07-01</td>\n",
       "      <td>Kelowna</td>\n",
       "      <td>British Columbia</td>\n",
       "      <td>Land only</td>\n",
       "      <td>101</td>\n",
       "      <td>Large urban population centre (100,000 or more)</td>\n",
       "      <td>151957.0</td>\n",
       "      <td>136.44</td>\n",
       "      <td>1113.8</td>\n",
       "    </tr>\n",
       "  </tbody>\n",
       "</table>\n",
       "<p>15224 rows × 9 columns</p>\n",
       "</div>"
      ],
      "text/plain": [
       "         REF_DATE        City                   Province Housing_Type  \\\n",
       "0      1981-01-01  St. John's  Newfoundland and Labrador   House only   \n",
       "1      1981-01-01  St. John's  Newfoundland and Labrador    Land only   \n",
       "2      1981-02-01  St. John's  Newfoundland and Labrador   House only   \n",
       "3      1981-02-01  St. John's  Newfoundland and Labrador    Land only   \n",
       "4      1981-03-01  St. John's  Newfoundland and Labrador   House only   \n",
       "...           ...         ...                        ...          ...   \n",
       "15219  2020-05-01     Kelowna           British Columbia    Land only   \n",
       "15220  2020-06-01     Kelowna           British Columbia   House only   \n",
       "15221  2020-06-01     Kelowna           British Columbia    Land only   \n",
       "15222  2020-07-01     Kelowna           British Columbia   House only   \n",
       "15223  2020-07-01     Kelowna           British Columbia    Land only   \n",
       "\n",
       "       PRICE_INDEX                                   city_size_type  pop_2016  \\\n",
       "0               37  Large urban population centre (100,000 or more)  178427.0   \n",
       "1               31  Large urban population centre (100,000 or more)  178427.0   \n",
       "2               37  Large urban population centre (100,000 or more)  178427.0   \n",
       "3               31  Large urban population centre (100,000 or more)  178427.0   \n",
       "4               37  Large urban population centre (100,000 or more)  178427.0   \n",
       "...            ...                                              ...       ...   \n",
       "15219          101  Large urban population centre (100,000 or more)  151957.0   \n",
       "15220          105  Large urban population centre (100,000 or more)  151957.0   \n",
       "15221          101  Large urban population centre (100,000 or more)  151957.0   \n",
       "15222          106  Large urban population centre (100,000 or more)  151957.0   \n",
       "15223          101  Large urban population centre (100,000 or more)  151957.0   \n",
       "\n",
       "       city_size  pop_density  \n",
       "0         166.00       1074.9  \n",
       "1         166.00       1074.9  \n",
       "2         166.00       1074.9  \n",
       "3         166.00       1074.9  \n",
       "4         166.00       1074.9  \n",
       "...          ...          ...  \n",
       "15219     136.44       1113.8  \n",
       "15220     136.44       1113.8  \n",
       "15221     136.44       1113.8  \n",
       "15222     136.44       1113.8  \n",
       "15223     136.44       1113.8  \n",
       "\n",
       "[15224 rows x 9 columns]"
      ]
     },
     "execution_count": 30,
     "metadata": {},
     "output_type": "execute_result"
    }
   ],
   "source": [
    "combined_df_1 = combined_df_1.drop(columns = [\"city_type\"])\n",
    "combined_df_1"
   ]
  },
  {
   "cell_type": "code",
   "execution_count": 15,
   "metadata": {},
   "outputs": [],
   "source": [
    "combined_df_1[\"REF_DATE\"] = combined_df_1[\"REF_DATE\"].astype(\"datetime64\")"
   ]
  },
  {
   "cell_type": "code",
   "execution_count": 16,
   "metadata": {},
   "outputs": [
    {
     "data": {
      "text/html": [
       "<div>\n",
       "<style scoped>\n",
       "    .dataframe tbody tr th:only-of-type {\n",
       "        vertical-align: middle;\n",
       "    }\n",
       "\n",
       "    .dataframe tbody tr th {\n",
       "        vertical-align: top;\n",
       "    }\n",
       "\n",
       "    .dataframe thead th {\n",
       "        text-align: right;\n",
       "    }\n",
       "</style>\n",
       "<table border=\"1\" class=\"dataframe\">\n",
       "  <thead>\n",
       "    <tr style=\"text-align: right;\">\n",
       "      <th></th>\n",
       "      <th>REF_DATE</th>\n",
       "      <th>City</th>\n",
       "      <th>Province</th>\n",
       "      <th>Housing_Type</th>\n",
       "      <th>PRICE_INDEX</th>\n",
       "      <th>city_size_type</th>\n",
       "      <th>pop_2016</th>\n",
       "      <th>city_size</th>\n",
       "      <th>pop_density</th>\n",
       "    </tr>\n",
       "  </thead>\n",
       "  <tbody>\n",
       "    <tr>\n",
       "      <th>0</th>\n",
       "      <td>1981-01-01</td>\n",
       "      <td>St. John's</td>\n",
       "      <td>Newfoundland and Labrador</td>\n",
       "      <td>House only</td>\n",
       "      <td>37</td>\n",
       "      <td>Large urban population centre (100,000 or more)</td>\n",
       "      <td>178427.0</td>\n",
       "      <td>166.00</td>\n",
       "      <td>1074.9</td>\n",
       "    </tr>\n",
       "    <tr>\n",
       "      <th>2</th>\n",
       "      <td>1981-02-01</td>\n",
       "      <td>St. John's</td>\n",
       "      <td>Newfoundland and Labrador</td>\n",
       "      <td>House only</td>\n",
       "      <td>37</td>\n",
       "      <td>Large urban population centre (100,000 or more)</td>\n",
       "      <td>178427.0</td>\n",
       "      <td>166.00</td>\n",
       "      <td>1074.9</td>\n",
       "    </tr>\n",
       "    <tr>\n",
       "      <th>4</th>\n",
       "      <td>1981-03-01</td>\n",
       "      <td>St. John's</td>\n",
       "      <td>Newfoundland and Labrador</td>\n",
       "      <td>House only</td>\n",
       "      <td>37</td>\n",
       "      <td>Large urban population centre (100,000 or more)</td>\n",
       "      <td>178427.0</td>\n",
       "      <td>166.00</td>\n",
       "      <td>1074.9</td>\n",
       "    </tr>\n",
       "    <tr>\n",
       "      <th>6</th>\n",
       "      <td>1981-04-01</td>\n",
       "      <td>St. John's</td>\n",
       "      <td>Newfoundland and Labrador</td>\n",
       "      <td>House only</td>\n",
       "      <td>37</td>\n",
       "      <td>Large urban population centre (100,000 or more)</td>\n",
       "      <td>178427.0</td>\n",
       "      <td>166.00</td>\n",
       "      <td>1074.9</td>\n",
       "    </tr>\n",
       "    <tr>\n",
       "      <th>8</th>\n",
       "      <td>1981-05-01</td>\n",
       "      <td>St. John's</td>\n",
       "      <td>Newfoundland and Labrador</td>\n",
       "      <td>House only</td>\n",
       "      <td>37</td>\n",
       "      <td>Large urban population centre (100,000 or more)</td>\n",
       "      <td>178427.0</td>\n",
       "      <td>166.00</td>\n",
       "      <td>1074.9</td>\n",
       "    </tr>\n",
       "    <tr>\n",
       "      <th>...</th>\n",
       "      <td>...</td>\n",
       "      <td>...</td>\n",
       "      <td>...</td>\n",
       "      <td>...</td>\n",
       "      <td>...</td>\n",
       "      <td>...</td>\n",
       "      <td>...</td>\n",
       "      <td>...</td>\n",
       "      <td>...</td>\n",
       "    </tr>\n",
       "    <tr>\n",
       "      <th>15214</th>\n",
       "      <td>2020-03-01</td>\n",
       "      <td>Kelowna</td>\n",
       "      <td>British Columbia</td>\n",
       "      <td>House only</td>\n",
       "      <td>105</td>\n",
       "      <td>Large urban population centre (100,000 or more)</td>\n",
       "      <td>151957.0</td>\n",
       "      <td>136.44</td>\n",
       "      <td>1113.8</td>\n",
       "    </tr>\n",
       "    <tr>\n",
       "      <th>15216</th>\n",
       "      <td>2020-04-01</td>\n",
       "      <td>Kelowna</td>\n",
       "      <td>British Columbia</td>\n",
       "      <td>House only</td>\n",
       "      <td>105</td>\n",
       "      <td>Large urban population centre (100,000 or more)</td>\n",
       "      <td>151957.0</td>\n",
       "      <td>136.44</td>\n",
       "      <td>1113.8</td>\n",
       "    </tr>\n",
       "    <tr>\n",
       "      <th>15218</th>\n",
       "      <td>2020-05-01</td>\n",
       "      <td>Kelowna</td>\n",
       "      <td>British Columbia</td>\n",
       "      <td>House only</td>\n",
       "      <td>105</td>\n",
       "      <td>Large urban population centre (100,000 or more)</td>\n",
       "      <td>151957.0</td>\n",
       "      <td>136.44</td>\n",
       "      <td>1113.8</td>\n",
       "    </tr>\n",
       "    <tr>\n",
       "      <th>15220</th>\n",
       "      <td>2020-06-01</td>\n",
       "      <td>Kelowna</td>\n",
       "      <td>British Columbia</td>\n",
       "      <td>House only</td>\n",
       "      <td>105</td>\n",
       "      <td>Large urban population centre (100,000 or more)</td>\n",
       "      <td>151957.0</td>\n",
       "      <td>136.44</td>\n",
       "      <td>1113.8</td>\n",
       "    </tr>\n",
       "    <tr>\n",
       "      <th>15222</th>\n",
       "      <td>2020-07-01</td>\n",
       "      <td>Kelowna</td>\n",
       "      <td>British Columbia</td>\n",
       "      <td>House only</td>\n",
       "      <td>106</td>\n",
       "      <td>Large urban population centre (100,000 or more)</td>\n",
       "      <td>151957.0</td>\n",
       "      <td>136.44</td>\n",
       "      <td>1113.8</td>\n",
       "    </tr>\n",
       "  </tbody>\n",
       "</table>\n",
       "<p>7612 rows × 9 columns</p>\n",
       "</div>"
      ],
      "text/plain": [
       "        REF_DATE        City                   Province Housing_Type  \\\n",
       "0     1981-01-01  St. John's  Newfoundland and Labrador   House only   \n",
       "2     1981-02-01  St. John's  Newfoundland and Labrador   House only   \n",
       "4     1981-03-01  St. John's  Newfoundland and Labrador   House only   \n",
       "6     1981-04-01  St. John's  Newfoundland and Labrador   House only   \n",
       "8     1981-05-01  St. John's  Newfoundland and Labrador   House only   \n",
       "...          ...         ...                        ...          ...   \n",
       "15214 2020-03-01     Kelowna           British Columbia   House only   \n",
       "15216 2020-04-01     Kelowna           British Columbia   House only   \n",
       "15218 2020-05-01     Kelowna           British Columbia   House only   \n",
       "15220 2020-06-01     Kelowna           British Columbia   House only   \n",
       "15222 2020-07-01     Kelowna           British Columbia   House only   \n",
       "\n",
       "       PRICE_INDEX                                   city_size_type  pop_2016  \\\n",
       "0               37  Large urban population centre (100,000 or more)  178427.0   \n",
       "2               37  Large urban population centre (100,000 or more)  178427.0   \n",
       "4               37  Large urban population centre (100,000 or more)  178427.0   \n",
       "6               37  Large urban population centre (100,000 or more)  178427.0   \n",
       "8               37  Large urban population centre (100,000 or more)  178427.0   \n",
       "...            ...                                              ...       ...   \n",
       "15214          105  Large urban population centre (100,000 or more)  151957.0   \n",
       "15216          105  Large urban population centre (100,000 or more)  151957.0   \n",
       "15218          105  Large urban population centre (100,000 or more)  151957.0   \n",
       "15220          105  Large urban population centre (100,000 or more)  151957.0   \n",
       "15222          106  Large urban population centre (100,000 or more)  151957.0   \n",
       "\n",
       "       city_size  pop_density  \n",
       "0         166.00       1074.9  \n",
       "2         166.00       1074.9  \n",
       "4         166.00       1074.9  \n",
       "6         166.00       1074.9  \n",
       "8         166.00       1074.9  \n",
       "...          ...          ...  \n",
       "15214     136.44       1113.8  \n",
       "15216     136.44       1113.8  \n",
       "15218     136.44       1113.8  \n",
       "15220     136.44       1113.8  \n",
       "15222     136.44       1113.8  \n",
       "\n",
       "[7612 rows x 9 columns]"
      ]
     },
     "execution_count": 16,
     "metadata": {},
     "output_type": "execute_result"
    }
   ],
   "source": [
    "# Isolate for specific province\n",
    "#province = \"Ontario\"\n",
    "#combined_df_4 = combined_df_1[(combined_df_1[\"Province\"] == province) & (combined_df_1[\"Housing_Type\"] == \"House only\")]\n",
    "#combined_df_4\n",
    "\n",
    "combined_df_4 = combined_df_1[combined_df_1[\"Housing_Type\"] == \"House only\"]\n",
    "combined_df_4"
   ]
  },
  {
   "cell_type": "code",
   "execution_count": 29,
   "metadata": {},
   "outputs": [
    {
     "data": {
      "text/html": [
       "<div>\n",
       "<style scoped>\n",
       "    .dataframe tbody tr th:only-of-type {\n",
       "        vertical-align: middle;\n",
       "    }\n",
       "\n",
       "    .dataframe tbody tr th {\n",
       "        vertical-align: top;\n",
       "    }\n",
       "\n",
       "    .dataframe thead th {\n",
       "        text-align: right;\n",
       "    }\n",
       "</style>\n",
       "<table border=\"1\" class=\"dataframe\">\n",
       "  <thead>\n",
       "    <tr style=\"text-align: right;\">\n",
       "      <th></th>\n",
       "      <th>REF_DATE</th>\n",
       "      <th>City</th>\n",
       "      <th>Province</th>\n",
       "      <th>Housing_Type</th>\n",
       "      <th>PRICE_INDEX</th>\n",
       "      <th>city_size_type</th>\n",
       "      <th>pop_2016</th>\n",
       "      <th>city_size</th>\n",
       "      <th>pop_density</th>\n",
       "      <th>Year</th>\n",
       "    </tr>\n",
       "  </thead>\n",
       "  <tbody>\n",
       "    <tr>\n",
       "      <th>890</th>\n",
       "      <td>2018-02-01</td>\n",
       "      <td>St. John's</td>\n",
       "      <td>Newfoundland and Labrador</td>\n",
       "      <td>House only</td>\n",
       "      <td>98</td>\n",
       "      <td>Large urban population centre (100,000 or more)</td>\n",
       "      <td>178427.0</td>\n",
       "      <td>166.00</td>\n",
       "      <td>1074.9</td>\n",
       "      <td>2018</td>\n",
       "    </tr>\n",
       "    <tr>\n",
       "      <th>892</th>\n",
       "      <td>2018-03-01</td>\n",
       "      <td>St. John's</td>\n",
       "      <td>Newfoundland and Labrador</td>\n",
       "      <td>House only</td>\n",
       "      <td>98</td>\n",
       "      <td>Large urban population centre (100,000 or more)</td>\n",
       "      <td>178427.0</td>\n",
       "      <td>166.00</td>\n",
       "      <td>1074.9</td>\n",
       "      <td>2018</td>\n",
       "    </tr>\n",
       "    <tr>\n",
       "      <th>894</th>\n",
       "      <td>2018-04-01</td>\n",
       "      <td>St. John's</td>\n",
       "      <td>Newfoundland and Labrador</td>\n",
       "      <td>House only</td>\n",
       "      <td>98</td>\n",
       "      <td>Large urban population centre (100,000 or more)</td>\n",
       "      <td>178427.0</td>\n",
       "      <td>166.00</td>\n",
       "      <td>1074.9</td>\n",
       "      <td>2018</td>\n",
       "    </tr>\n",
       "    <tr>\n",
       "      <th>896</th>\n",
       "      <td>2018-05-01</td>\n",
       "      <td>St. John's</td>\n",
       "      <td>Newfoundland and Labrador</td>\n",
       "      <td>House only</td>\n",
       "      <td>98</td>\n",
       "      <td>Large urban population centre (100,000 or more)</td>\n",
       "      <td>178427.0</td>\n",
       "      <td>166.00</td>\n",
       "      <td>1074.9</td>\n",
       "      <td>2018</td>\n",
       "    </tr>\n",
       "    <tr>\n",
       "      <th>898</th>\n",
       "      <td>2018-06-01</td>\n",
       "      <td>St. John's</td>\n",
       "      <td>Newfoundland and Labrador</td>\n",
       "      <td>House only</td>\n",
       "      <td>98</td>\n",
       "      <td>Large urban population centre (100,000 or more)</td>\n",
       "      <td>178427.0</td>\n",
       "      <td>166.00</td>\n",
       "      <td>1074.9</td>\n",
       "      <td>2018</td>\n",
       "    </tr>\n",
       "    <tr>\n",
       "      <th>...</th>\n",
       "      <td>...</td>\n",
       "      <td>...</td>\n",
       "      <td>...</td>\n",
       "      <td>...</td>\n",
       "      <td>...</td>\n",
       "      <td>...</td>\n",
       "      <td>...</td>\n",
       "      <td>...</td>\n",
       "      <td>...</td>\n",
       "      <td>...</td>\n",
       "    </tr>\n",
       "    <tr>\n",
       "      <th>15214</th>\n",
       "      <td>2020-03-01</td>\n",
       "      <td>Kelowna</td>\n",
       "      <td>British Columbia</td>\n",
       "      <td>House only</td>\n",
       "      <td>105</td>\n",
       "      <td>Large urban population centre (100,000 or more)</td>\n",
       "      <td>151957.0</td>\n",
       "      <td>136.44</td>\n",
       "      <td>1113.8</td>\n",
       "      <td>2020</td>\n",
       "    </tr>\n",
       "    <tr>\n",
       "      <th>15216</th>\n",
       "      <td>2020-04-01</td>\n",
       "      <td>Kelowna</td>\n",
       "      <td>British Columbia</td>\n",
       "      <td>House only</td>\n",
       "      <td>105</td>\n",
       "      <td>Large urban population centre (100,000 or more)</td>\n",
       "      <td>151957.0</td>\n",
       "      <td>136.44</td>\n",
       "      <td>1113.8</td>\n",
       "      <td>2020</td>\n",
       "    </tr>\n",
       "    <tr>\n",
       "      <th>15218</th>\n",
       "      <td>2020-05-01</td>\n",
       "      <td>Kelowna</td>\n",
       "      <td>British Columbia</td>\n",
       "      <td>House only</td>\n",
       "      <td>105</td>\n",
       "      <td>Large urban population centre (100,000 or more)</td>\n",
       "      <td>151957.0</td>\n",
       "      <td>136.44</td>\n",
       "      <td>1113.8</td>\n",
       "      <td>2020</td>\n",
       "    </tr>\n",
       "    <tr>\n",
       "      <th>15220</th>\n",
       "      <td>2020-06-01</td>\n",
       "      <td>Kelowna</td>\n",
       "      <td>British Columbia</td>\n",
       "      <td>House only</td>\n",
       "      <td>105</td>\n",
       "      <td>Large urban population centre (100,000 or more)</td>\n",
       "      <td>151957.0</td>\n",
       "      <td>136.44</td>\n",
       "      <td>1113.8</td>\n",
       "      <td>2020</td>\n",
       "    </tr>\n",
       "    <tr>\n",
       "      <th>15222</th>\n",
       "      <td>2020-07-01</td>\n",
       "      <td>Kelowna</td>\n",
       "      <td>British Columbia</td>\n",
       "      <td>House only</td>\n",
       "      <td>106</td>\n",
       "      <td>Large urban population centre (100,000 or more)</td>\n",
       "      <td>151957.0</td>\n",
       "      <td>136.44</td>\n",
       "      <td>1113.8</td>\n",
       "      <td>2020</td>\n",
       "    </tr>\n",
       "  </tbody>\n",
       "</table>\n",
       "<p>630 rows × 10 columns</p>\n",
       "</div>"
      ],
      "text/plain": [
       "        REF_DATE        City                   Province Housing_Type  \\\n",
       "890   2018-02-01  St. John's  Newfoundland and Labrador   House only   \n",
       "892   2018-03-01  St. John's  Newfoundland and Labrador   House only   \n",
       "894   2018-04-01  St. John's  Newfoundland and Labrador   House only   \n",
       "896   2018-05-01  St. John's  Newfoundland and Labrador   House only   \n",
       "898   2018-06-01  St. John's  Newfoundland and Labrador   House only   \n",
       "...          ...         ...                        ...          ...   \n",
       "15214 2020-03-01     Kelowna           British Columbia   House only   \n",
       "15216 2020-04-01     Kelowna           British Columbia   House only   \n",
       "15218 2020-05-01     Kelowna           British Columbia   House only   \n",
       "15220 2020-06-01     Kelowna           British Columbia   House only   \n",
       "15222 2020-07-01     Kelowna           British Columbia   House only   \n",
       "\n",
       "       PRICE_INDEX                                   city_size_type  pop_2016  \\\n",
       "890             98  Large urban population centre (100,000 or more)  178427.0   \n",
       "892             98  Large urban population centre (100,000 or more)  178427.0   \n",
       "894             98  Large urban population centre (100,000 or more)  178427.0   \n",
       "896             98  Large urban population centre (100,000 or more)  178427.0   \n",
       "898             98  Large urban population centre (100,000 or more)  178427.0   \n",
       "...            ...                                              ...       ...   \n",
       "15214          105  Large urban population centre (100,000 or more)  151957.0   \n",
       "15216          105  Large urban population centre (100,000 or more)  151957.0   \n",
       "15218          105  Large urban population centre (100,000 or more)  151957.0   \n",
       "15220          105  Large urban population centre (100,000 or more)  151957.0   \n",
       "15222          106  Large urban population centre (100,000 or more)  151957.0   \n",
       "\n",
       "       city_size  pop_density  Year  \n",
       "890       166.00       1074.9  2018  \n",
       "892       166.00       1074.9  2018  \n",
       "894       166.00       1074.9  2018  \n",
       "896       166.00       1074.9  2018  \n",
       "898       166.00       1074.9  2018  \n",
       "...          ...          ...   ...  \n",
       "15214     136.44       1113.8  2020  \n",
       "15216     136.44       1113.8  2020  \n",
       "15218     136.44       1113.8  2020  \n",
       "15220     136.44       1113.8  2020  \n",
       "15222     136.44       1113.8  2020  \n",
       "\n",
       "[630 rows x 10 columns]"
      ]
     },
     "execution_count": 29,
     "metadata": {},
     "output_type": "execute_result"
    }
   ],
   "source": [
    "# Refine by start date\n",
    "start_date = datetime(2018,1,1)\n",
    "combined_df_4 = combined_df_4[combined_df_4[\"REF_DATE\"] > start_date]\n",
    "combined_df_4"
   ]
  },
  {
   "cell_type": "code",
   "execution_count": 30,
   "metadata": {},
   "outputs": [
    {
     "name": "stderr",
     "output_type": "stream",
     "text": [
      "C:\\Users\\quint\\anaconda3\\envs\\mlenv\\lib\\site-packages\\ipykernel_launcher.py:1: SettingWithCopyWarning:\n",
      "\n",
      "\n",
      "A value is trying to be set on a copy of a slice from a DataFrame.\n",
      "Try using .loc[row_indexer,col_indexer] = value instead\n",
      "\n",
      "See the caveats in the documentation: https://pandas.pydata.org/pandas-docs/stable/user_guide/indexing.html#returning-a-view-versus-a-copy\n",
      "\n"
     ]
    }
   ],
   "source": [
    "combined_df_4[\"Year\"] = pd.DatetimeIndex(combined_df_4['REF_DATE']).year"
   ]
  },
  {
   "cell_type": "code",
   "execution_count": 31,
   "metadata": {},
   "outputs": [
    {
     "data": {
      "text/html": [
       "<div>\n",
       "<style scoped>\n",
       "    .dataframe tbody tr th:only-of-type {\n",
       "        vertical-align: middle;\n",
       "    }\n",
       "\n",
       "    .dataframe tbody tr th {\n",
       "        vertical-align: top;\n",
       "    }\n",
       "\n",
       "    .dataframe thead th {\n",
       "        text-align: right;\n",
       "    }\n",
       "</style>\n",
       "<table border=\"1\" class=\"dataframe\">\n",
       "  <thead>\n",
       "    <tr style=\"text-align: right;\">\n",
       "      <th></th>\n",
       "      <th>Year</th>\n",
       "      <th>pop_density</th>\n",
       "      <th>PRICE_INDEX</th>\n",
       "    </tr>\n",
       "  </thead>\n",
       "  <tbody>\n",
       "    <tr>\n",
       "      <th>0</th>\n",
       "      <td>2018</td>\n",
       "      <td>2111.8</td>\n",
       "      <td>98.454545</td>\n",
       "    </tr>\n",
       "    <tr>\n",
       "      <th>1</th>\n",
       "      <td>2019</td>\n",
       "      <td>2111.8</td>\n",
       "      <td>96.083333</td>\n",
       "    </tr>\n",
       "    <tr>\n",
       "      <th>2</th>\n",
       "      <td>2020</td>\n",
       "      <td>2111.8</td>\n",
       "      <td>94.142857</td>\n",
       "    </tr>\n",
       "    <tr>\n",
       "      <th>3</th>\n",
       "      <td>2018</td>\n",
       "      <td>907.4</td>\n",
       "      <td>99.909091</td>\n",
       "    </tr>\n",
       "    <tr>\n",
       "      <th>4</th>\n",
       "      <td>2019</td>\n",
       "      <td>907.4</td>\n",
       "      <td>101.000000</td>\n",
       "    </tr>\n",
       "    <tr>\n",
       "      <th>...</th>\n",
       "      <td>...</td>\n",
       "      <td>...</td>\n",
       "      <td>...</td>\n",
       "    </tr>\n",
       "    <tr>\n",
       "      <th>58</th>\n",
       "      <td>2019</td>\n",
       "      <td>1629.1</td>\n",
       "      <td>106.250000</td>\n",
       "    </tr>\n",
       "    <tr>\n",
       "      <th>59</th>\n",
       "      <td>2020</td>\n",
       "      <td>1629.1</td>\n",
       "      <td>108.000000</td>\n",
       "    </tr>\n",
       "    <tr>\n",
       "      <th>60</th>\n",
       "      <td>2018</td>\n",
       "      <td>2069.6</td>\n",
       "      <td>104.727273</td>\n",
       "    </tr>\n",
       "    <tr>\n",
       "      <th>61</th>\n",
       "      <td>2019</td>\n",
       "      <td>2069.6</td>\n",
       "      <td>105.750000</td>\n",
       "    </tr>\n",
       "    <tr>\n",
       "      <th>62</th>\n",
       "      <td>2020</td>\n",
       "      <td>2069.6</td>\n",
       "      <td>106.285714</td>\n",
       "    </tr>\n",
       "  </tbody>\n",
       "</table>\n",
       "<p>63 rows × 3 columns</p>\n",
       "</div>"
      ],
      "text/plain": [
       "    Year  pop_density  PRICE_INDEX\n",
       "0   2018       2111.8    98.454545\n",
       "1   2019       2111.8    96.083333\n",
       "2   2020       2111.8    94.142857\n",
       "3   2018        907.4    99.909091\n",
       "4   2019        907.4   101.000000\n",
       "..   ...          ...          ...\n",
       "58  2019       1629.1   106.250000\n",
       "59  2020       1629.1   108.000000\n",
       "60  2018       2069.6   104.727273\n",
       "61  2019       2069.6   105.750000\n",
       "62  2020       2069.6   106.285714\n",
       "\n",
       "[63 rows x 3 columns]"
      ]
     },
     "execution_count": 31,
     "metadata": {},
     "output_type": "execute_result"
    }
   ],
   "source": [
    "x_data = combined_df_4.groupby([\"City\", \"Year\", \"pop_density\"])[\"PRICE_INDEX\"].mean()\n",
    "x_df = pd.DataFrame(data = x_data)\n",
    "new_df = pd.DataFrame(x_df.to_records())\n",
    "new_df.drop(columns = [\"City\"], inplace = True)\n",
    "new_df\n",
    "\n"
   ]
  },
  {
   "cell_type": "code",
   "execution_count": 32,
   "metadata": {},
   "outputs": [
    {
     "data": {
      "text/plain": [
       "Year             int32\n",
       "pop_density    float64\n",
       "PRICE_INDEX    float64\n",
       "dtype: object"
      ]
     },
     "execution_count": 32,
     "metadata": {},
     "output_type": "execute_result"
    }
   ],
   "source": [
    "new_df.dtypes"
   ]
  },
  {
   "cell_type": "code",
   "execution_count": 33,
   "metadata": {},
   "outputs": [],
   "source": [
    "# Standarize data with StandardScaler \n",
    "data_scaled = StandardScaler().fit_transform(new_df)"
   ]
  },
  {
   "cell_type": "code",
   "execution_count": 34,
   "metadata": {},
   "outputs": [
    {
     "data": {},
     "metadata": {},
     "output_type": "display_data"
    },
    {
     "data": {
      "application/vnd.holoviews_exec.v0+json": "",
      "text/html": [
       "<div id='1102'>\n",
       "\n",
       "\n",
       "\n",
       "\n",
       "\n",
       "  <div class=\"bk-root\" id=\"2023b797-9cf1-4784-8a48-a66b3d4f6874\" data-root-id=\"1102\"></div>\n",
       "</div>\n",
       "<script type=\"application/javascript\">(function(root) {\n",
       "  function embed_document(root) {\n",
       "  var docs_json = {\"5823c0ce-b8ff-4633-b1ec-52a18a12c57b\":{\"roots\":{\"references\":[{\"attributes\":{},\"id\":\"1147\",\"type\":\"BasicTickFormatter\"},{\"attributes\":{},\"id\":\"1138\",\"type\":\"Selection\"},{\"attributes\":{\"margin\":[5,5,5,5],\"name\":\"HSpacer01704\",\"sizing_mode\":\"stretch_width\"},\"id\":\"1166\",\"type\":\"Spacer\"},{\"attributes\":{\"callback\":null,\"renderers\":[{\"id\":\"1143\"}],\"tags\":[\"hv_created\"],\"tooltips\":[[\"k\",\"@{k}\"],[\"inertia\",\"@{inertia}\"]]},\"id\":\"1106\",\"type\":\"HoverTool\"},{\"attributes\":{\"data\":{\"inertia\":{\"__ndarray__\":\"AQAAAACgZ0DjfgbWOJVhQPuAOwAgTFpAFHoAoTS+VEA95Pc5EKNQQCuV3/Mb20xAnm5da+XASUAS1sm9gjRHQHxx91hcaERAaF4Hkw0yQkA=\",\"dtype\":\"float64\",\"order\":\"little\",\"shape\":[10]},\"k\":[1,2,3,4,5,6,7,8,9,10]},\"selected\":{\"id\":\"1138\"},\"selection_policy\":{\"id\":\"1158\"}},\"id\":\"1137\",\"type\":\"ColumnDataSource\"},{\"attributes\":{\"ticks\":[1,2,3,4,5,6,7,8,9,10]},\"id\":\"1145\",\"type\":\"FixedTicker\"},{\"attributes\":{\"margin\":[5,5,5,5],\"name\":\"HSpacer01703\",\"sizing_mode\":\"stretch_width\"},\"id\":\"1103\",\"type\":\"Spacer\"},{\"attributes\":{},\"id\":\"1112\",\"type\":\"LinearScale\"},{\"attributes\":{},\"id\":\"1124\",\"type\":\"SaveTool\"},{\"attributes\":{\"line_color\":\"#1f77b3\",\"line_width\":2,\"x\":{\"field\":\"k\"},\"y\":{\"field\":\"inertia\"}},\"id\":\"1140\",\"type\":\"Line\"},{\"attributes\":{},\"id\":\"1126\",\"type\":\"WheelZoomTool\"},{\"attributes\":{\"align\":null,\"below\":[{\"id\":\"1116\"}],\"center\":[{\"id\":\"1119\"},{\"id\":\"1123\"}],\"left\":[{\"id\":\"1120\"}],\"margin\":null,\"min_border_bottom\":10,\"min_border_left\":10,\"min_border_right\":10,\"min_border_top\":10,\"plot_height\":300,\"plot_width\":700,\"renderers\":[{\"id\":\"1143\"}],\"sizing_mode\":\"fixed\",\"title\":{\"id\":\"1108\"},\"toolbar\":{\"id\":\"1130\"},\"x_range\":{\"id\":\"1104\"},\"x_scale\":{\"id\":\"1112\"},\"y_range\":{\"id\":\"1105\"},\"y_scale\":{\"id\":\"1114\"}},\"id\":\"1107\",\"subtype\":\"Figure\",\"type\":\"Plot\"},{\"attributes\":{},\"id\":\"1125\",\"type\":\"PanTool\"},{\"attributes\":{\"axis_label\":\"inertia\",\"bounds\":\"auto\",\"formatter\":{\"id\":\"1151\"},\"major_label_orientation\":\"horizontal\",\"ticker\":{\"id\":\"1121\"}},\"id\":\"1120\",\"type\":\"LinearAxis\"},{\"attributes\":{\"overlay\":{\"id\":\"1129\"}},\"id\":\"1127\",\"type\":\"BoxZoomTool\"},{\"attributes\":{\"end\":10.0,\"reset_end\":10.0,\"reset_start\":1.0,\"start\":1.0,\"tags\":[[[\"k\",\"k\",null]]]},\"id\":\"1104\",\"type\":\"Range1d\"},{\"attributes\":{\"line_alpha\":0.2,\"line_color\":\"#1f77b3\",\"line_width\":2,\"x\":{\"field\":\"k\"},\"y\":{\"field\":\"inertia\"}},\"id\":\"1142\",\"type\":\"Line\"},{\"attributes\":{},\"id\":\"1114\",\"type\":\"LinearScale\"},{\"attributes\":{},\"id\":\"1128\",\"type\":\"ResetTool\"},{\"attributes\":{},\"id\":\"1158\",\"type\":\"UnionRenderers\"},{\"attributes\":{\"axis\":{\"id\":\"1116\"},\"grid_line_color\":null,\"ticker\":null},\"id\":\"1119\",\"type\":\"Grid\"},{\"attributes\":{\"line_alpha\":0.1,\"line_color\":\"#1f77b3\",\"line_width\":2,\"x\":{\"field\":\"k\"},\"y\":{\"field\":\"inertia\"}},\"id\":\"1141\",\"type\":\"Line\"},{\"attributes\":{\"axis_label\":\"k\",\"bounds\":\"auto\",\"formatter\":{\"id\":\"1147\"},\"major_label_orientation\":\"horizontal\",\"ticker\":{\"id\":\"1145\"}},\"id\":\"1116\",\"type\":\"LinearAxis\"},{\"attributes\":{\"children\":[{\"id\":\"1103\"},{\"id\":\"1107\"},{\"id\":\"1166\"}],\"margin\":[0,0,0,0],\"name\":\"Row01699\",\"tags\":[\"embedded\"]},\"id\":\"1102\",\"type\":\"Row\"},{\"attributes\":{\"end\":204.26089607442879,\"reset_end\":204.26089607442879,\"reset_start\":21.130143181283792,\"start\":21.130143181283792,\"tags\":[[[\"inertia\",\"inertia\",null]]]},\"id\":\"1105\",\"type\":\"Range1d\"},{\"attributes\":{},\"id\":\"1151\",\"type\":\"BasicTickFormatter\"},{\"attributes\":{\"source\":{\"id\":\"1137\"}},\"id\":\"1144\",\"type\":\"CDSView\"},{\"attributes\":{\"bottom_units\":\"screen\",\"fill_alpha\":0.5,\"fill_color\":\"lightgrey\",\"left_units\":\"screen\",\"level\":\"overlay\",\"line_alpha\":1.0,\"line_color\":\"black\",\"line_dash\":[4,4],\"line_width\":2,\"right_units\":\"screen\",\"top_units\":\"screen\"},\"id\":\"1129\",\"type\":\"BoxAnnotation\"},{\"attributes\":{},\"id\":\"1121\",\"type\":\"BasicTicker\"},{\"attributes\":{\"axis\":{\"id\":\"1120\"},\"dimension\":1,\"grid_line_color\":null,\"ticker\":null},\"id\":\"1123\",\"type\":\"Grid\"},{\"attributes\":{\"active_drag\":\"auto\",\"active_inspect\":\"auto\",\"active_multi\":null,\"active_scroll\":\"auto\",\"active_tap\":\"auto\",\"tools\":[{\"id\":\"1106\"},{\"id\":\"1124\"},{\"id\":\"1125\"},{\"id\":\"1126\"},{\"id\":\"1127\"},{\"id\":\"1128\"}]},\"id\":\"1130\",\"type\":\"Toolbar\"},{\"attributes\":{\"data_source\":{\"id\":\"1137\"},\"glyph\":{\"id\":\"1140\"},\"hover_glyph\":null,\"muted_glyph\":{\"id\":\"1142\"},\"nonselection_glyph\":{\"id\":\"1141\"},\"selection_glyph\":null,\"view\":{\"id\":\"1144\"}},\"id\":\"1143\",\"type\":\"GlyphRenderer\"},{\"attributes\":{\"text\":\"Elbow Curve\",\"text_color\":{\"value\":\"black\"},\"text_font_size\":{\"value\":\"12pt\"}},\"id\":\"1108\",\"type\":\"Title\"}],\"root_ids\":[\"1102\"]},\"title\":\"Bokeh Application\",\"version\":\"2.1.1\"}};\n",
       "  var render_items = [{\"docid\":\"5823c0ce-b8ff-4633-b1ec-52a18a12c57b\",\"root_ids\":[\"1102\"],\"roots\":{\"1102\":\"2023b797-9cf1-4784-8a48-a66b3d4f6874\"}}];\n",
       "  root.Bokeh.embed.embed_items_notebook(docs_json, render_items);\n",
       "  }\n",
       "if (root.Bokeh !== undefined) {\n",
       "    embed_document(root);\n",
       "  } else {\n",
       "    var attempts = 0;\n",
       "    var timer = setInterval(function(root) {\n",
       "      if (root.Bokeh !== undefined) {\n",
       "        clearInterval(timer);\n",
       "        embed_document(root);\n",
       "      } else if (document.readyState == \"complete\") {\n",
       "        attempts++;\n",
       "        if (attempts > 100) {\n",
       "          clearInterval(timer);\n",
       "          console.log(\"Bokeh: ERROR: Unable to run BokehJS code because BokehJS library is missing\");\n",
       "        }\n",
       "      }\n",
       "    }, 10, root)\n",
       "  }\n",
       "})(window);</script>"
      ],
      "text/plain": [
       ":Curve   [k]   (inertia)"
      ]
     },
     "execution_count": 34,
     "metadata": {
      "application/vnd.holoviews_exec.v0+json": {
       "id": "1102"
      }
     },
     "output_type": "execute_result"
    }
   ],
   "source": [
    "# Find the best value for K\n",
    "inertia = []\n",
    "k = list(range(1, 11))\n",
    "\n",
    "# Calculate the inertia for the range of K values\n",
    "for i in k:\n",
    "\tkm = KMeans(n_clusters=i, random_state=0)\n",
    "\tkm.fit(data_scaled)\n",
    "\tinertia.append(km.inertia_)\n",
    "\n",
    "# Create the elbow curve\n",
    "elbow_data = {\"k\": k, \"inertia\": inertia}\n",
    "df_elbow = pd.DataFrame(elbow_data)\n",
    "df_elbow.hvplot.line(x=\"k\", y=\"inertia\", xticks=k, title=\"Elbow Curve\")"
   ]
  },
  {
   "cell_type": "code",
   "execution_count": 35,
   "metadata": {},
   "outputs": [
    {
     "data": {
      "text/html": [
       "<div>\n",
       "<style scoped>\n",
       "    .dataframe tbody tr th:only-of-type {\n",
       "        vertical-align: middle;\n",
       "    }\n",
       "\n",
       "    .dataframe tbody tr th {\n",
       "        vertical-align: top;\n",
       "    }\n",
       "\n",
       "    .dataframe thead th {\n",
       "        text-align: right;\n",
       "    }\n",
       "</style>\n",
       "<table border=\"1\" class=\"dataframe\">\n",
       "  <thead>\n",
       "    <tr style=\"text-align: right;\">\n",
       "      <th></th>\n",
       "      <th>Year</th>\n",
       "      <th>pop_density</th>\n",
       "      <th>PRICE_INDEX</th>\n",
       "      <th>class</th>\n",
       "    </tr>\n",
       "  </thead>\n",
       "  <tbody>\n",
       "    <tr>\n",
       "      <th>0</th>\n",
       "      <td>2018</td>\n",
       "      <td>2111.8</td>\n",
       "      <td>98.454545</td>\n",
       "      <td>1</td>\n",
       "    </tr>\n",
       "    <tr>\n",
       "      <th>1</th>\n",
       "      <td>2019</td>\n",
       "      <td>2111.8</td>\n",
       "      <td>96.083333</td>\n",
       "      <td>1</td>\n",
       "    </tr>\n",
       "    <tr>\n",
       "      <th>2</th>\n",
       "      <td>2020</td>\n",
       "      <td>2111.8</td>\n",
       "      <td>94.142857</td>\n",
       "      <td>0</td>\n",
       "    </tr>\n",
       "    <tr>\n",
       "      <th>3</th>\n",
       "      <td>2018</td>\n",
       "      <td>907.4</td>\n",
       "      <td>99.909091</td>\n",
       "      <td>1</td>\n",
       "    </tr>\n",
       "    <tr>\n",
       "      <th>4</th>\n",
       "      <td>2019</td>\n",
       "      <td>907.4</td>\n",
       "      <td>101.000000</td>\n",
       "      <td>1</td>\n",
       "    </tr>\n",
       "  </tbody>\n",
       "</table>\n",
       "</div>"
      ],
      "text/plain": [
       "   Year  pop_density  PRICE_INDEX  class\n",
       "0  2018       2111.8    98.454545      1\n",
       "1  2019       2111.8    96.083333      1\n",
       "2  2020       2111.8    94.142857      0\n",
       "3  2018        907.4    99.909091      1\n",
       "4  2019        907.4   101.000000      1"
      ]
     },
     "execution_count": 35,
     "metadata": {},
     "output_type": "execute_result"
    }
   ],
   "source": [
    "# Initialize the K-means model\n",
    "model = KMeans(n_clusters=2, random_state=0)\n",
    "\n",
    "# Fit the model\n",
    "model.fit(data_scaled)\n",
    "\n",
    "# Predict clusters\n",
    "predictions = model.predict(data_scaled)\n",
    "\n",
    "# Add the predicted class columns\n",
    "new_df[\"class\"] = model.labels_\n",
    "new_df.head()"
   ]
  },
  {
   "cell_type": "code",
   "execution_count": 36,
   "metadata": {},
   "outputs": [
    {
     "data": {
      "application/vnd.plotly.v1+json": {
       "config": {
        "plotlyServerURL": "https://plot.ly"
       },
       "data": [
        {
         "hovertemplate": "Year=%{x}<br>pop_density=%{y}<br>PRICE_INDEX=%{z}<br>class=%{marker.color}<extra></extra>",
         "legendgroup": "",
         "marker": {
          "color": [
           1,
           1,
           0,
           1,
           1,
           0,
           1,
           1,
           0,
           1,
           0,
           0,
           1,
           1,
           0,
           1,
           0,
           0,
           1,
           1,
           0,
           1,
           0,
           0,
           1,
           0,
           0,
           1,
           1,
           0,
           1,
           1,
           0,
           1,
           1,
           0,
           1,
           1,
           0,
           1,
           1,
           0,
           1,
           1,
           0,
           1,
           1,
           0,
           1,
           1,
           0,
           1,
           0,
           0,
           1,
           1,
           0,
           1,
           0,
           0,
           1,
           0,
           0
          ],
          "coloraxis": "coloraxis",
          "symbol": "circle"
         },
         "mode": "markers",
         "name": "",
         "scene": "scene",
         "showlegend": false,
         "type": "scatter3d",
         "x": [
          2018,
          2019,
          2020,
          2018,
          2019,
          2020,
          2018,
          2019,
          2020,
          2018,
          2019,
          2020,
          2018,
          2019,
          2020,
          2018,
          2019,
          2020,
          2018,
          2019,
          2020,
          2018,
          2019,
          2020,
          2018,
          2019,
          2020,
          2018,
          2019,
          2020,
          2018,
          2019,
          2020,
          2018,
          2019,
          2020,
          2018,
          2019,
          2020,
          2018,
          2019,
          2020,
          2018,
          2019,
          2020,
          2018,
          2019,
          2020,
          2018,
          2019,
          2020,
          2018,
          2019,
          2020,
          2018,
          2019,
          2020,
          2018,
          2019,
          2020,
          2018,
          2019,
          2020
         ],
         "y": [
          2111.8,
          2111.8,
          2111.8,
          907.4,
          907.4,
          907.4,
          1855.5,
          1855.5,
          1855.5,
          1786.7,
          1786.7,
          1786.7,
          1349.3,
          1349.3,
          1349.3,
          1972.4,
          1972.4,
          1972.4,
          1113.8,
          1113.8,
          1113.8,
          1649.3,
          1649.3,
          1649.3,
          2719.9,
          2719.9,
          2719.9,
          1998.3,
          1998.3,
          1998.3,
          1648.8,
          1648.8,
          1648.8,
          2081.5,
          2081.5,
          2081.5,
          1953.7,
          1953.7,
          1953.7,
          1448.7,
          1448.7,
          1448.7,
          1074.9,
          1074.9,
          1074.9,
          3028.2,
          3028.2,
          3028.2,
          1581.2,
          1581.2,
          1581.2,
          2584.1,
          2584.1,
          2584.1,
          1555,
          1555,
          1555,
          1629.1,
          1629.1,
          1629.1,
          2069.6,
          2069.6,
          2069.6
         ],
         "z": [
          98.45454545454545,
          96.08333333333333,
          94.14285714285714,
          99.9090909090909,
          101,
          102.42857142857143,
          98.63636363636364,
          96.75,
          95.85714285714286,
          104.72727272727273,
          105.83333333333333,
          109.14285714285714,
          101.81818181818181,
          102.66666666666667,
          104.42857142857143,
          104.63636363636364,
          105.5,
          106.85714285714286,
          104,
          103.91666666666667,
          105.14285714285714,
          111.81818181818181,
          115.58333333333333,
          118.57142857142857,
          103.63636363636364,
          108.5,
          116,
          102.72727272727273,
          101.41666666666667,
          101.42857142857143,
          100,
          100,
          100,
          97.63636363636364,
          94,
          89.42857142857143,
          96.63636363636364,
          94.58333333333333,
          94,
          99.81818181818181,
          101.66666666666667,
          103,
          97.63636363636364,
          96,
          95.85714285714286,
          100.54545454545455,
          99.08333333333333,
          98.85714285714286,
          100.27272727272727,
          101.75,
          103.14285714285714,
          109.36363636363636,
          106.91666666666667,
          104.71428571428571,
          102.9090909090909,
          100.91666666666667,
          101.85714285714286,
          103.9090909090909,
          106.25,
          108,
          104.72727272727273,
          105.75,
          106.28571428571429
         ]
        }
       ],
       "layout": {
        "coloraxis": {
         "colorbar": {
          "title": {
           "text": "class"
          }
         },
         "colorscale": [
          [
           0,
           "#0d0887"
          ],
          [
           0.1111111111111111,
           "#46039f"
          ],
          [
           0.2222222222222222,
           "#7201a8"
          ],
          [
           0.3333333333333333,
           "#9c179e"
          ],
          [
           0.4444444444444444,
           "#bd3786"
          ],
          [
           0.5555555555555556,
           "#d8576b"
          ],
          [
           0.6666666666666666,
           "#ed7953"
          ],
          [
           0.7777777777777778,
           "#fb9f3a"
          ],
          [
           0.8888888888888888,
           "#fdca26"
          ],
          [
           1,
           "#f0f921"
          ]
         ]
        },
        "legend": {
         "tracegroupgap": 0,
         "x": 0,
         "y": 1
        },
        "margin": {
         "t": 60
        },
        "scene": {
         "domain": {
          "x": [
           0,
           1
          ],
          "y": [
           0,
           1
          ]
         },
         "xaxis": {
          "title": {
           "text": "Year"
          }
         },
         "yaxis": {
          "title": {
           "text": "pop_density"
          }
         },
         "zaxis": {
          "title": {
           "text": "PRICE_INDEX"
          }
         }
        },
        "template": {
         "data": {
          "bar": [
           {
            "error_x": {
             "color": "#2a3f5f"
            },
            "error_y": {
             "color": "#2a3f5f"
            },
            "marker": {
             "line": {
              "color": "#E5ECF6",
              "width": 0.5
             }
            },
            "type": "bar"
           }
          ],
          "barpolar": [
           {
            "marker": {
             "line": {
              "color": "#E5ECF6",
              "width": 0.5
             }
            },
            "type": "barpolar"
           }
          ],
          "carpet": [
           {
            "aaxis": {
             "endlinecolor": "#2a3f5f",
             "gridcolor": "white",
             "linecolor": "white",
             "minorgridcolor": "white",
             "startlinecolor": "#2a3f5f"
            },
            "baxis": {
             "endlinecolor": "#2a3f5f",
             "gridcolor": "white",
             "linecolor": "white",
             "minorgridcolor": "white",
             "startlinecolor": "#2a3f5f"
            },
            "type": "carpet"
           }
          ],
          "choropleth": [
           {
            "colorbar": {
             "outlinewidth": 0,
             "ticks": ""
            },
            "type": "choropleth"
           }
          ],
          "contour": [
           {
            "colorbar": {
             "outlinewidth": 0,
             "ticks": ""
            },
            "colorscale": [
             [
              0,
              "#0d0887"
             ],
             [
              0.1111111111111111,
              "#46039f"
             ],
             [
              0.2222222222222222,
              "#7201a8"
             ],
             [
              0.3333333333333333,
              "#9c179e"
             ],
             [
              0.4444444444444444,
              "#bd3786"
             ],
             [
              0.5555555555555556,
              "#d8576b"
             ],
             [
              0.6666666666666666,
              "#ed7953"
             ],
             [
              0.7777777777777778,
              "#fb9f3a"
             ],
             [
              0.8888888888888888,
              "#fdca26"
             ],
             [
              1,
              "#f0f921"
             ]
            ],
            "type": "contour"
           }
          ],
          "contourcarpet": [
           {
            "colorbar": {
             "outlinewidth": 0,
             "ticks": ""
            },
            "type": "contourcarpet"
           }
          ],
          "heatmap": [
           {
            "colorbar": {
             "outlinewidth": 0,
             "ticks": ""
            },
            "colorscale": [
             [
              0,
              "#0d0887"
             ],
             [
              0.1111111111111111,
              "#46039f"
             ],
             [
              0.2222222222222222,
              "#7201a8"
             ],
             [
              0.3333333333333333,
              "#9c179e"
             ],
             [
              0.4444444444444444,
              "#bd3786"
             ],
             [
              0.5555555555555556,
              "#d8576b"
             ],
             [
              0.6666666666666666,
              "#ed7953"
             ],
             [
              0.7777777777777778,
              "#fb9f3a"
             ],
             [
              0.8888888888888888,
              "#fdca26"
             ],
             [
              1,
              "#f0f921"
             ]
            ],
            "type": "heatmap"
           }
          ],
          "heatmapgl": [
           {
            "colorbar": {
             "outlinewidth": 0,
             "ticks": ""
            },
            "colorscale": [
             [
              0,
              "#0d0887"
             ],
             [
              0.1111111111111111,
              "#46039f"
             ],
             [
              0.2222222222222222,
              "#7201a8"
             ],
             [
              0.3333333333333333,
              "#9c179e"
             ],
             [
              0.4444444444444444,
              "#bd3786"
             ],
             [
              0.5555555555555556,
              "#d8576b"
             ],
             [
              0.6666666666666666,
              "#ed7953"
             ],
             [
              0.7777777777777778,
              "#fb9f3a"
             ],
             [
              0.8888888888888888,
              "#fdca26"
             ],
             [
              1,
              "#f0f921"
             ]
            ],
            "type": "heatmapgl"
           }
          ],
          "histogram": [
           {
            "marker": {
             "colorbar": {
              "outlinewidth": 0,
              "ticks": ""
             }
            },
            "type": "histogram"
           }
          ],
          "histogram2d": [
           {
            "colorbar": {
             "outlinewidth": 0,
             "ticks": ""
            },
            "colorscale": [
             [
              0,
              "#0d0887"
             ],
             [
              0.1111111111111111,
              "#46039f"
             ],
             [
              0.2222222222222222,
              "#7201a8"
             ],
             [
              0.3333333333333333,
              "#9c179e"
             ],
             [
              0.4444444444444444,
              "#bd3786"
             ],
             [
              0.5555555555555556,
              "#d8576b"
             ],
             [
              0.6666666666666666,
              "#ed7953"
             ],
             [
              0.7777777777777778,
              "#fb9f3a"
             ],
             [
              0.8888888888888888,
              "#fdca26"
             ],
             [
              1,
              "#f0f921"
             ]
            ],
            "type": "histogram2d"
           }
          ],
          "histogram2dcontour": [
           {
            "colorbar": {
             "outlinewidth": 0,
             "ticks": ""
            },
            "colorscale": [
             [
              0,
              "#0d0887"
             ],
             [
              0.1111111111111111,
              "#46039f"
             ],
             [
              0.2222222222222222,
              "#7201a8"
             ],
             [
              0.3333333333333333,
              "#9c179e"
             ],
             [
              0.4444444444444444,
              "#bd3786"
             ],
             [
              0.5555555555555556,
              "#d8576b"
             ],
             [
              0.6666666666666666,
              "#ed7953"
             ],
             [
              0.7777777777777778,
              "#fb9f3a"
             ],
             [
              0.8888888888888888,
              "#fdca26"
             ],
             [
              1,
              "#f0f921"
             ]
            ],
            "type": "histogram2dcontour"
           }
          ],
          "mesh3d": [
           {
            "colorbar": {
             "outlinewidth": 0,
             "ticks": ""
            },
            "type": "mesh3d"
           }
          ],
          "parcoords": [
           {
            "line": {
             "colorbar": {
              "outlinewidth": 0,
              "ticks": ""
             }
            },
            "type": "parcoords"
           }
          ],
          "pie": [
           {
            "automargin": true,
            "type": "pie"
           }
          ],
          "scatter": [
           {
            "marker": {
             "colorbar": {
              "outlinewidth": 0,
              "ticks": ""
             }
            },
            "type": "scatter"
           }
          ],
          "scatter3d": [
           {
            "line": {
             "colorbar": {
              "outlinewidth": 0,
              "ticks": ""
             }
            },
            "marker": {
             "colorbar": {
              "outlinewidth": 0,
              "ticks": ""
             }
            },
            "type": "scatter3d"
           }
          ],
          "scattercarpet": [
           {
            "marker": {
             "colorbar": {
              "outlinewidth": 0,
              "ticks": ""
             }
            },
            "type": "scattercarpet"
           }
          ],
          "scattergeo": [
           {
            "marker": {
             "colorbar": {
              "outlinewidth": 0,
              "ticks": ""
             }
            },
            "type": "scattergeo"
           }
          ],
          "scattergl": [
           {
            "marker": {
             "colorbar": {
              "outlinewidth": 0,
              "ticks": ""
             }
            },
            "type": "scattergl"
           }
          ],
          "scattermapbox": [
           {
            "marker": {
             "colorbar": {
              "outlinewidth": 0,
              "ticks": ""
             }
            },
            "type": "scattermapbox"
           }
          ],
          "scatterpolar": [
           {
            "marker": {
             "colorbar": {
              "outlinewidth": 0,
              "ticks": ""
             }
            },
            "type": "scatterpolar"
           }
          ],
          "scatterpolargl": [
           {
            "marker": {
             "colorbar": {
              "outlinewidth": 0,
              "ticks": ""
             }
            },
            "type": "scatterpolargl"
           }
          ],
          "scatterternary": [
           {
            "marker": {
             "colorbar": {
              "outlinewidth": 0,
              "ticks": ""
             }
            },
            "type": "scatterternary"
           }
          ],
          "surface": [
           {
            "colorbar": {
             "outlinewidth": 0,
             "ticks": ""
            },
            "colorscale": [
             [
              0,
              "#0d0887"
             ],
             [
              0.1111111111111111,
              "#46039f"
             ],
             [
              0.2222222222222222,
              "#7201a8"
             ],
             [
              0.3333333333333333,
              "#9c179e"
             ],
             [
              0.4444444444444444,
              "#bd3786"
             ],
             [
              0.5555555555555556,
              "#d8576b"
             ],
             [
              0.6666666666666666,
              "#ed7953"
             ],
             [
              0.7777777777777778,
              "#fb9f3a"
             ],
             [
              0.8888888888888888,
              "#fdca26"
             ],
             [
              1,
              "#f0f921"
             ]
            ],
            "type": "surface"
           }
          ],
          "table": [
           {
            "cells": {
             "fill": {
              "color": "#EBF0F8"
             },
             "line": {
              "color": "white"
             }
            },
            "header": {
             "fill": {
              "color": "#C8D4E3"
             },
             "line": {
              "color": "white"
             }
            },
            "type": "table"
           }
          ]
         },
         "layout": {
          "annotationdefaults": {
           "arrowcolor": "#2a3f5f",
           "arrowhead": 0,
           "arrowwidth": 1
          },
          "coloraxis": {
           "colorbar": {
            "outlinewidth": 0,
            "ticks": ""
           }
          },
          "colorscale": {
           "diverging": [
            [
             0,
             "#8e0152"
            ],
            [
             0.1,
             "#c51b7d"
            ],
            [
             0.2,
             "#de77ae"
            ],
            [
             0.3,
             "#f1b6da"
            ],
            [
             0.4,
             "#fde0ef"
            ],
            [
             0.5,
             "#f7f7f7"
            ],
            [
             0.6,
             "#e6f5d0"
            ],
            [
             0.7,
             "#b8e186"
            ],
            [
             0.8,
             "#7fbc41"
            ],
            [
             0.9,
             "#4d9221"
            ],
            [
             1,
             "#276419"
            ]
           ],
           "sequential": [
            [
             0,
             "#0d0887"
            ],
            [
             0.1111111111111111,
             "#46039f"
            ],
            [
             0.2222222222222222,
             "#7201a8"
            ],
            [
             0.3333333333333333,
             "#9c179e"
            ],
            [
             0.4444444444444444,
             "#bd3786"
            ],
            [
             0.5555555555555556,
             "#d8576b"
            ],
            [
             0.6666666666666666,
             "#ed7953"
            ],
            [
             0.7777777777777778,
             "#fb9f3a"
            ],
            [
             0.8888888888888888,
             "#fdca26"
            ],
            [
             1,
             "#f0f921"
            ]
           ],
           "sequentialminus": [
            [
             0,
             "#0d0887"
            ],
            [
             0.1111111111111111,
             "#46039f"
            ],
            [
             0.2222222222222222,
             "#7201a8"
            ],
            [
             0.3333333333333333,
             "#9c179e"
            ],
            [
             0.4444444444444444,
             "#bd3786"
            ],
            [
             0.5555555555555556,
             "#d8576b"
            ],
            [
             0.6666666666666666,
             "#ed7953"
            ],
            [
             0.7777777777777778,
             "#fb9f3a"
            ],
            [
             0.8888888888888888,
             "#fdca26"
            ],
            [
             1,
             "#f0f921"
            ]
           ]
          },
          "colorway": [
           "#636efa",
           "#EF553B",
           "#00cc96",
           "#ab63fa",
           "#FFA15A",
           "#19d3f3",
           "#FF6692",
           "#B6E880",
           "#FF97FF",
           "#FECB52"
          ],
          "font": {
           "color": "#2a3f5f"
          },
          "geo": {
           "bgcolor": "white",
           "lakecolor": "white",
           "landcolor": "#E5ECF6",
           "showlakes": true,
           "showland": true,
           "subunitcolor": "white"
          },
          "hoverlabel": {
           "align": "left"
          },
          "hovermode": "closest",
          "mapbox": {
           "style": "light"
          },
          "paper_bgcolor": "white",
          "plot_bgcolor": "#E5ECF6",
          "polar": {
           "angularaxis": {
            "gridcolor": "white",
            "linecolor": "white",
            "ticks": ""
           },
           "bgcolor": "#E5ECF6",
           "radialaxis": {
            "gridcolor": "white",
            "linecolor": "white",
            "ticks": ""
           }
          },
          "scene": {
           "xaxis": {
            "backgroundcolor": "#E5ECF6",
            "gridcolor": "white",
            "gridwidth": 2,
            "linecolor": "white",
            "showbackground": true,
            "ticks": "",
            "zerolinecolor": "white"
           },
           "yaxis": {
            "backgroundcolor": "#E5ECF6",
            "gridcolor": "white",
            "gridwidth": 2,
            "linecolor": "white",
            "showbackground": true,
            "ticks": "",
            "zerolinecolor": "white"
           },
           "zaxis": {
            "backgroundcolor": "#E5ECF6",
            "gridcolor": "white",
            "gridwidth": 2,
            "linecolor": "white",
            "showbackground": true,
            "ticks": "",
            "zerolinecolor": "white"
           }
          },
          "shapedefaults": {
           "line": {
            "color": "#2a3f5f"
           }
          },
          "ternary": {
           "aaxis": {
            "gridcolor": "white",
            "linecolor": "white",
            "ticks": ""
           },
           "baxis": {
            "gridcolor": "white",
            "linecolor": "white",
            "ticks": ""
           },
           "bgcolor": "#E5ECF6",
           "caxis": {
            "gridcolor": "white",
            "linecolor": "white",
            "ticks": ""
           }
          },
          "title": {
           "x": 0.05
          },
          "xaxis": {
           "automargin": true,
           "gridcolor": "white",
           "linecolor": "white",
           "ticks": "",
           "title": {
            "standoff": 15
           },
           "zerolinecolor": "white",
           "zerolinewidth": 2
          },
          "yaxis": {
           "automargin": true,
           "gridcolor": "white",
           "linecolor": "white",
           "ticks": "",
           "title": {
            "standoff": 15
           },
           "zerolinecolor": "white",
           "zerolinewidth": 2
          }
         }
        },
        "width": 800
       }
      },
      "text/html": [
       "<div>\n",
       "        \n",
       "        \n",
       "            <div id=\"ea631099-d337-4960-9da1-5558ab095eb3\" class=\"plotly-graph-div\" style=\"height:525px; width:800px;\"></div>\n",
       "            <script type=\"text/javascript\">\n",
       "                require([\"plotly\"], function(Plotly) {\n",
       "                    window.PLOTLYENV=window.PLOTLYENV || {};\n",
       "                    \n",
       "                if (document.getElementById(\"ea631099-d337-4960-9da1-5558ab095eb3\")) {\n",
       "                    Plotly.newPlot(\n",
       "                        'ea631099-d337-4960-9da1-5558ab095eb3',\n",
       "                        [{\"hovertemplate\": \"Year=%{x}<br>pop_density=%{y}<br>PRICE_INDEX=%{z}<br>class=%{marker.color}<extra></extra>\", \"legendgroup\": \"\", \"marker\": {\"color\": [1, 1, 0, 1, 1, 0, 1, 1, 0, 1, 0, 0, 1, 1, 0, 1, 0, 0, 1, 1, 0, 1, 0, 0, 1, 0, 0, 1, 1, 0, 1, 1, 0, 1, 1, 0, 1, 1, 0, 1, 1, 0, 1, 1, 0, 1, 1, 0, 1, 1, 0, 1, 0, 0, 1, 1, 0, 1, 0, 0, 1, 0, 0], \"coloraxis\": \"coloraxis\", \"symbol\": \"circle\"}, \"mode\": \"markers\", \"name\": \"\", \"scene\": \"scene\", \"showlegend\": false, \"type\": \"scatter3d\", \"x\": [2018, 2019, 2020, 2018, 2019, 2020, 2018, 2019, 2020, 2018, 2019, 2020, 2018, 2019, 2020, 2018, 2019, 2020, 2018, 2019, 2020, 2018, 2019, 2020, 2018, 2019, 2020, 2018, 2019, 2020, 2018, 2019, 2020, 2018, 2019, 2020, 2018, 2019, 2020, 2018, 2019, 2020, 2018, 2019, 2020, 2018, 2019, 2020, 2018, 2019, 2020, 2018, 2019, 2020, 2018, 2019, 2020, 2018, 2019, 2020, 2018, 2019, 2020], \"y\": [2111.8, 2111.8, 2111.8, 907.4, 907.4, 907.4, 1855.5, 1855.5, 1855.5, 1786.7, 1786.7, 1786.7, 1349.3, 1349.3, 1349.3, 1972.4, 1972.4, 1972.4, 1113.8, 1113.8, 1113.8, 1649.3, 1649.3, 1649.3, 2719.9, 2719.9, 2719.9, 1998.3, 1998.3, 1998.3, 1648.8, 1648.8, 1648.8, 2081.5, 2081.5, 2081.5, 1953.7, 1953.7, 1953.7, 1448.7, 1448.7, 1448.7, 1074.9, 1074.9, 1074.9, 3028.2, 3028.2, 3028.2, 1581.2, 1581.2, 1581.2, 2584.1, 2584.1, 2584.1, 1555.0, 1555.0, 1555.0, 1629.1, 1629.1, 1629.1, 2069.6, 2069.6, 2069.6], \"z\": [98.45454545454545, 96.08333333333333, 94.14285714285714, 99.9090909090909, 101.0, 102.42857142857143, 98.63636363636364, 96.75, 95.85714285714286, 104.72727272727273, 105.83333333333333, 109.14285714285714, 101.81818181818181, 102.66666666666667, 104.42857142857143, 104.63636363636364, 105.5, 106.85714285714286, 104.0, 103.91666666666667, 105.14285714285714, 111.81818181818181, 115.58333333333333, 118.57142857142857, 103.63636363636364, 108.5, 116.0, 102.72727272727273, 101.41666666666667, 101.42857142857143, 100.0, 100.0, 100.0, 97.63636363636364, 94.0, 89.42857142857143, 96.63636363636364, 94.58333333333333, 94.0, 99.81818181818181, 101.66666666666667, 103.0, 97.63636363636364, 96.0, 95.85714285714286, 100.54545454545455, 99.08333333333333, 98.85714285714286, 100.27272727272727, 101.75, 103.14285714285714, 109.36363636363636, 106.91666666666667, 104.71428571428571, 102.9090909090909, 100.91666666666667, 101.85714285714286, 103.9090909090909, 106.25, 108.0, 104.72727272727273, 105.75, 106.28571428571429]}],\n",
       "                        {\"coloraxis\": {\"colorbar\": {\"title\": {\"text\": \"class\"}}, \"colorscale\": [[0.0, \"#0d0887\"], [0.1111111111111111, \"#46039f\"], [0.2222222222222222, \"#7201a8\"], [0.3333333333333333, \"#9c179e\"], [0.4444444444444444, \"#bd3786\"], [0.5555555555555556, \"#d8576b\"], [0.6666666666666666, \"#ed7953\"], [0.7777777777777778, \"#fb9f3a\"], [0.8888888888888888, \"#fdca26\"], [1.0, \"#f0f921\"]]}, \"legend\": {\"tracegroupgap\": 0, \"x\": 0, \"y\": 1}, \"margin\": {\"t\": 60}, \"scene\": {\"domain\": {\"x\": [0.0, 1.0], \"y\": [0.0, 1.0]}, \"xaxis\": {\"title\": {\"text\": \"Year\"}}, \"yaxis\": {\"title\": {\"text\": \"pop_density\"}}, \"zaxis\": {\"title\": {\"text\": \"PRICE_INDEX\"}}}, \"template\": {\"data\": {\"bar\": [{\"error_x\": {\"color\": \"#2a3f5f\"}, \"error_y\": {\"color\": \"#2a3f5f\"}, \"marker\": {\"line\": {\"color\": \"#E5ECF6\", \"width\": 0.5}}, \"type\": \"bar\"}], \"barpolar\": [{\"marker\": {\"line\": {\"color\": \"#E5ECF6\", \"width\": 0.5}}, \"type\": \"barpolar\"}], \"carpet\": [{\"aaxis\": {\"endlinecolor\": \"#2a3f5f\", \"gridcolor\": \"white\", \"linecolor\": \"white\", \"minorgridcolor\": \"white\", \"startlinecolor\": \"#2a3f5f\"}, \"baxis\": {\"endlinecolor\": \"#2a3f5f\", \"gridcolor\": \"white\", \"linecolor\": \"white\", \"minorgridcolor\": \"white\", \"startlinecolor\": \"#2a3f5f\"}, \"type\": \"carpet\"}], \"choropleth\": [{\"colorbar\": {\"outlinewidth\": 0, \"ticks\": \"\"}, \"type\": \"choropleth\"}], \"contour\": [{\"colorbar\": {\"outlinewidth\": 0, \"ticks\": \"\"}, \"colorscale\": [[0.0, \"#0d0887\"], [0.1111111111111111, \"#46039f\"], [0.2222222222222222, \"#7201a8\"], [0.3333333333333333, \"#9c179e\"], [0.4444444444444444, \"#bd3786\"], [0.5555555555555556, \"#d8576b\"], [0.6666666666666666, \"#ed7953\"], [0.7777777777777778, \"#fb9f3a\"], [0.8888888888888888, \"#fdca26\"], [1.0, \"#f0f921\"]], \"type\": \"contour\"}], \"contourcarpet\": [{\"colorbar\": {\"outlinewidth\": 0, \"ticks\": \"\"}, \"type\": \"contourcarpet\"}], \"heatmap\": [{\"colorbar\": {\"outlinewidth\": 0, \"ticks\": \"\"}, \"colorscale\": [[0.0, \"#0d0887\"], [0.1111111111111111, \"#46039f\"], [0.2222222222222222, \"#7201a8\"], [0.3333333333333333, \"#9c179e\"], [0.4444444444444444, \"#bd3786\"], [0.5555555555555556, \"#d8576b\"], [0.6666666666666666, \"#ed7953\"], [0.7777777777777778, \"#fb9f3a\"], [0.8888888888888888, \"#fdca26\"], [1.0, \"#f0f921\"]], \"type\": \"heatmap\"}], \"heatmapgl\": [{\"colorbar\": {\"outlinewidth\": 0, \"ticks\": \"\"}, \"colorscale\": [[0.0, \"#0d0887\"], [0.1111111111111111, \"#46039f\"], [0.2222222222222222, \"#7201a8\"], [0.3333333333333333, \"#9c179e\"], [0.4444444444444444, \"#bd3786\"], [0.5555555555555556, \"#d8576b\"], [0.6666666666666666, \"#ed7953\"], [0.7777777777777778, \"#fb9f3a\"], [0.8888888888888888, \"#fdca26\"], [1.0, \"#f0f921\"]], \"type\": \"heatmapgl\"}], \"histogram\": [{\"marker\": {\"colorbar\": {\"outlinewidth\": 0, \"ticks\": \"\"}}, \"type\": \"histogram\"}], \"histogram2d\": [{\"colorbar\": {\"outlinewidth\": 0, \"ticks\": \"\"}, \"colorscale\": [[0.0, \"#0d0887\"], [0.1111111111111111, \"#46039f\"], [0.2222222222222222, \"#7201a8\"], [0.3333333333333333, \"#9c179e\"], [0.4444444444444444, \"#bd3786\"], [0.5555555555555556, \"#d8576b\"], [0.6666666666666666, \"#ed7953\"], [0.7777777777777778, \"#fb9f3a\"], [0.8888888888888888, \"#fdca26\"], [1.0, \"#f0f921\"]], \"type\": \"histogram2d\"}], \"histogram2dcontour\": [{\"colorbar\": {\"outlinewidth\": 0, \"ticks\": \"\"}, \"colorscale\": [[0.0, \"#0d0887\"], [0.1111111111111111, \"#46039f\"], [0.2222222222222222, \"#7201a8\"], [0.3333333333333333, \"#9c179e\"], [0.4444444444444444, \"#bd3786\"], [0.5555555555555556, \"#d8576b\"], [0.6666666666666666, \"#ed7953\"], [0.7777777777777778, \"#fb9f3a\"], [0.8888888888888888, \"#fdca26\"], [1.0, \"#f0f921\"]], \"type\": \"histogram2dcontour\"}], \"mesh3d\": [{\"colorbar\": {\"outlinewidth\": 0, \"ticks\": \"\"}, \"type\": \"mesh3d\"}], \"parcoords\": [{\"line\": {\"colorbar\": {\"outlinewidth\": 0, \"ticks\": \"\"}}, \"type\": \"parcoords\"}], \"pie\": [{\"automargin\": true, \"type\": \"pie\"}], \"scatter\": [{\"marker\": {\"colorbar\": {\"outlinewidth\": 0, \"ticks\": \"\"}}, \"type\": \"scatter\"}], \"scatter3d\": [{\"line\": {\"colorbar\": {\"outlinewidth\": 0, \"ticks\": \"\"}}, \"marker\": {\"colorbar\": {\"outlinewidth\": 0, \"ticks\": \"\"}}, \"type\": \"scatter3d\"}], \"scattercarpet\": [{\"marker\": {\"colorbar\": {\"outlinewidth\": 0, \"ticks\": \"\"}}, \"type\": \"scattercarpet\"}], \"scattergeo\": [{\"marker\": {\"colorbar\": {\"outlinewidth\": 0, \"ticks\": \"\"}}, \"type\": \"scattergeo\"}], \"scattergl\": [{\"marker\": {\"colorbar\": {\"outlinewidth\": 0, \"ticks\": \"\"}}, \"type\": \"scattergl\"}], \"scattermapbox\": [{\"marker\": {\"colorbar\": {\"outlinewidth\": 0, \"ticks\": \"\"}}, \"type\": \"scattermapbox\"}], \"scatterpolar\": [{\"marker\": {\"colorbar\": {\"outlinewidth\": 0, \"ticks\": \"\"}}, \"type\": \"scatterpolar\"}], \"scatterpolargl\": [{\"marker\": {\"colorbar\": {\"outlinewidth\": 0, \"ticks\": \"\"}}, \"type\": \"scatterpolargl\"}], \"scatterternary\": [{\"marker\": {\"colorbar\": {\"outlinewidth\": 0, \"ticks\": \"\"}}, \"type\": \"scatterternary\"}], \"surface\": [{\"colorbar\": {\"outlinewidth\": 0, \"ticks\": \"\"}, \"colorscale\": [[0.0, \"#0d0887\"], [0.1111111111111111, \"#46039f\"], [0.2222222222222222, \"#7201a8\"], [0.3333333333333333, \"#9c179e\"], [0.4444444444444444, \"#bd3786\"], [0.5555555555555556, \"#d8576b\"], [0.6666666666666666, \"#ed7953\"], [0.7777777777777778, \"#fb9f3a\"], [0.8888888888888888, \"#fdca26\"], [1.0, \"#f0f921\"]], \"type\": \"surface\"}], \"table\": [{\"cells\": {\"fill\": {\"color\": \"#EBF0F8\"}, \"line\": {\"color\": \"white\"}}, \"header\": {\"fill\": {\"color\": \"#C8D4E3\"}, \"line\": {\"color\": \"white\"}}, \"type\": \"table\"}]}, \"layout\": {\"annotationdefaults\": {\"arrowcolor\": \"#2a3f5f\", \"arrowhead\": 0, \"arrowwidth\": 1}, \"coloraxis\": {\"colorbar\": {\"outlinewidth\": 0, \"ticks\": \"\"}}, \"colorscale\": {\"diverging\": [[0, \"#8e0152\"], [0.1, \"#c51b7d\"], [0.2, \"#de77ae\"], [0.3, \"#f1b6da\"], [0.4, \"#fde0ef\"], [0.5, \"#f7f7f7\"], [0.6, \"#e6f5d0\"], [0.7, \"#b8e186\"], [0.8, \"#7fbc41\"], [0.9, \"#4d9221\"], [1, \"#276419\"]], \"sequential\": [[0.0, \"#0d0887\"], [0.1111111111111111, \"#46039f\"], [0.2222222222222222, \"#7201a8\"], [0.3333333333333333, \"#9c179e\"], [0.4444444444444444, \"#bd3786\"], [0.5555555555555556, \"#d8576b\"], [0.6666666666666666, \"#ed7953\"], [0.7777777777777778, \"#fb9f3a\"], [0.8888888888888888, \"#fdca26\"], [1.0, \"#f0f921\"]], \"sequentialminus\": [[0.0, \"#0d0887\"], [0.1111111111111111, \"#46039f\"], [0.2222222222222222, \"#7201a8\"], [0.3333333333333333, \"#9c179e\"], [0.4444444444444444, \"#bd3786\"], [0.5555555555555556, \"#d8576b\"], [0.6666666666666666, \"#ed7953\"], [0.7777777777777778, \"#fb9f3a\"], [0.8888888888888888, \"#fdca26\"], [1.0, \"#f0f921\"]]}, \"colorway\": [\"#636efa\", \"#EF553B\", \"#00cc96\", \"#ab63fa\", \"#FFA15A\", \"#19d3f3\", \"#FF6692\", \"#B6E880\", \"#FF97FF\", \"#FECB52\"], \"font\": {\"color\": \"#2a3f5f\"}, \"geo\": {\"bgcolor\": \"white\", \"lakecolor\": \"white\", \"landcolor\": \"#E5ECF6\", \"showlakes\": true, \"showland\": true, \"subunitcolor\": \"white\"}, \"hoverlabel\": {\"align\": \"left\"}, \"hovermode\": \"closest\", \"mapbox\": {\"style\": \"light\"}, \"paper_bgcolor\": \"white\", \"plot_bgcolor\": \"#E5ECF6\", \"polar\": {\"angularaxis\": {\"gridcolor\": \"white\", \"linecolor\": \"white\", \"ticks\": \"\"}, \"bgcolor\": \"#E5ECF6\", \"radialaxis\": {\"gridcolor\": \"white\", \"linecolor\": \"white\", \"ticks\": \"\"}}, \"scene\": {\"xaxis\": {\"backgroundcolor\": \"#E5ECF6\", \"gridcolor\": \"white\", \"gridwidth\": 2, \"linecolor\": \"white\", \"showbackground\": true, \"ticks\": \"\", \"zerolinecolor\": \"white\"}, \"yaxis\": {\"backgroundcolor\": \"#E5ECF6\", \"gridcolor\": \"white\", \"gridwidth\": 2, \"linecolor\": \"white\", \"showbackground\": true, \"ticks\": \"\", \"zerolinecolor\": \"white\"}, \"zaxis\": {\"backgroundcolor\": \"#E5ECF6\", \"gridcolor\": \"white\", \"gridwidth\": 2, \"linecolor\": \"white\", \"showbackground\": true, \"ticks\": \"\", \"zerolinecolor\": \"white\"}}, \"shapedefaults\": {\"line\": {\"color\": \"#2a3f5f\"}}, \"ternary\": {\"aaxis\": {\"gridcolor\": \"white\", \"linecolor\": \"white\", \"ticks\": \"\"}, \"baxis\": {\"gridcolor\": \"white\", \"linecolor\": \"white\", \"ticks\": \"\"}, \"bgcolor\": \"#E5ECF6\", \"caxis\": {\"gridcolor\": \"white\", \"linecolor\": \"white\", \"ticks\": \"\"}}, \"title\": {\"x\": 0.05}, \"xaxis\": {\"automargin\": true, \"gridcolor\": \"white\", \"linecolor\": \"white\", \"ticks\": \"\", \"title\": {\"standoff\": 15}, \"zerolinecolor\": \"white\", \"zerolinewidth\": 2}, \"yaxis\": {\"automargin\": true, \"gridcolor\": \"white\", \"linecolor\": \"white\", \"ticks\": \"\", \"title\": {\"standoff\": 15}, \"zerolinecolor\": \"white\", \"zerolinewidth\": 2}}}, \"width\": 800},\n",
       "                        {\"responsive\": true}\n",
       "                    ).then(function(){\n",
       "                            \n",
       "var gd = document.getElementById('ea631099-d337-4960-9da1-5558ab095eb3');\n",
       "var x = new MutationObserver(function (mutations, observer) {{\n",
       "        var display = window.getComputedStyle(gd).display;\n",
       "        if (!display || display === 'none') {{\n",
       "            console.log([gd, 'removed!']);\n",
       "            Plotly.purge(gd);\n",
       "            observer.disconnect();\n",
       "        }}\n",
       "}});\n",
       "\n",
       "// Listen for the removal of the full notebook cells\n",
       "var notebookContainer = gd.closest('#notebook-container');\n",
       "if (notebookContainer) {{\n",
       "    x.observe(notebookContainer, {childList: true});\n",
       "}}\n",
       "\n",
       "// Listen for the clearing of the current output cell\n",
       "var outputEl = gd.closest('.output');\n",
       "if (outputEl) {{\n",
       "    x.observe(outputEl, {childList: true});\n",
       "}}\n",
       "\n",
       "                        })\n",
       "                };\n",
       "                });\n",
       "            </script>\n",
       "        </div>"
      ]
     },
     "metadata": {},
     "output_type": "display_data"
    }
   ],
   "source": [
    "# Plotting the clusters with three features \n",
    "fig = px.scatter_3d(new_df, x= \"Year\", y= \"pop_density\", z=\"PRICE_INDEX\", color= \"class\", width=800)\n",
    "fig.update_layout(legend=dict(x=0,y=1))\n",
    "fig.show()"
   ]
  },
  {
   "cell_type": "code",
   "execution_count": null,
   "metadata": {},
   "outputs": [],
   "source": []
  }
 ],
 "metadata": {
  "kernelspec": {
   "display_name": "mlenv",
   "language": "python",
   "name": "mlenv"
  },
  "language_info": {
   "codemirror_mode": {
    "name": "ipython",
    "version": 3
   },
   "file_extension": ".py",
   "mimetype": "text/x-python",
   "name": "python",
   "nbconvert_exporter": "python",
   "pygments_lexer": "ipython3",
   "version": "3.7.7"
  }
 },
 "nbformat": 4,
 "nbformat_minor": 4
}
